{
 "cells": [
  {
   "cell_type": "markdown",
   "metadata": {
    "id": "su9mwz_3aKv9"
   },
   "source": [
    "****\n",
    "\n",
    "# <center> <b> <span style=\"color:orange;\"> Python Proficiency for Scientific Computing and Data Science (PyPro-SCiDaS)  </span> </b></center>\n",
    "\n",
    "### <center> <b> <span style=\"color:green;\">An Initiation to Programming using Python (Init2Py) </span> </b></center>\n",
    "    "
   ]
  },
  {
   "cell_type": "markdown",
   "metadata": {
    "id": "j6o1HRQbaKv-"
   },
   "source": [
    "\n",
    "****\n",
    "\n",
    "# <center> <b> <span style=\"color:blue;\">Lecture 1: Variables and assignments </span> </b></center>\n",
    "\n",
    "\n",
    "****\n"
   ]
  },
  {
   "cell_type": "markdown",
   "metadata": {
    "id": "-niAFUQWaKv_"
   },
   "source": [
    "\n",
    "### <left> <b> <span style=\"color:brown;\">Instructeur : </span> </b></left>[Yaé Ulrich Gaba](https://github.com/gabayae)\n",
    "\n",
    "\n",
    "\n",
    "\n",
    ">    **Summary:** As soon as we have *data types*, we need *variables* to store the data. In reality, Python does not offer the concept of a variable, but rather that of an *object reference*. As long as the object is immutable (like integers, floats, etc.), there is no significant difference. In this notebook, we discuss the main points surrounding the use of variables in Python.\n",
    "\n",
    "****"
   ]
  },
  {
   "cell_type": "markdown",
   "metadata": {
    "id": "W5ah9nfiaKv_"
   },
   "source": [
    "## 0. Introduction\n",
    "\n",
    "In Python, a variable is a fundamental programming construct that facilitates the storage and management of information in the computer's memory. It is assigned a symbolic name, which serves as a reference to the data stored at a particular location in memory. This symbolic name enables you to access and modify the stored information throughout your code with ease.\n",
    "\n",
    "Variables in Python are defined using the assignment operator =. You can assign a value to a variable directly or assign the value from another variable, making Python flexible in how it handles data. Rather than containing the data themselves, variables in Python act as references to objects in memory. This reference-based approach allows for efficient memory management and provides the flexibility to interact with and modify the data dynamically.\n",
    "\n",
    "Python's dynamic typing system means that variables can be reassigned to different types of data during program execution. This dynamic nature, combined with the reference model, enhances the language's capability to handle various data types and operations seamlessly. Additionally, Python's garbage collection system manages memory allocation and deallocation, further optimizing performance and resource utilization."
   ]
  },
  {
   "cell_type": "markdown",
   "metadata": {
    "id": "IPSQvNuKaKwA"
   },
   "source": [
    "## 1. Define variable\n",
    "\n",
    "In Python, there are four fundamental ways to define a variable, each suited to different purposes and contexts:\n",
    "\n",
    "1. **Direct Assignment**: This is the most straightforward method where a variable is assigned a specific value directly. This method is used for initializing variables with known values that will be used later in the code.\n",
    "\n",
    "\n",
    "2. **Multiple Assignment**: This technique allows you to assign the same value to multiple variables simultaneously. It is useful for initializing several variables with the same value efficiently.\n",
    "\n",
    "3. **Parallel Assignment**: This method involves defining multiple variables in a single statement with different values. It is effective for initializing several variables at once with distinct values.\n",
    "\n",
    "\n",
    "4. **Assignment from Expressions**: Variables can be defined based on expressions involving other variables. This method allows you to create variables that represent calculations or transformations of existing variables.\n",
    "\n",
    "\n",
    "Each of these methods provides flexibility in how you manage and utilize variables in your code, catering to different scenarios and requirements.\n"
   ]
  },
  {
   "cell_type": "markdown",
   "metadata": {
    "id": "mlRNSu59aKwB"
   },
   "source": [
    "### 1.0. Through direct assignment"
   ]
  },
  {
   "cell_type": "markdown",
   "metadata": {
    "id": "O4gNkF8yaKwB"
   },
   "source": [
    "\n",
    "```python\n",
    "y = 4.8134  # Defines a variable named y and assigns it the value 4.8134\n",
    "salutation = \"How are you ?\"  # Defines a variable named salutation and assigns it the value \"How are you?\"\n",
    "```\n",
    "\n",
    "This code snippet illustrates the process of creating variables in Python by assigning them specific values. The variable `y` is assigned a floating-point number, while the variable `salutation` is assigned a string value. In Python, this assignment operation creates a reference between the variable name and the data, allowing you to reuse and manipulate the data through the variable name in subsequent parts of your code."
   ]
  },
  {
   "cell_type": "code",
   "execution_count": 47,
   "metadata": {
    "id": "wAyfy4PYaKwB"
   },
   "outputs": [],
   "source": [
    "import math\n",
    "y = math.pi  # Defines a variable named y and assigns it the value 4.8134\n",
    "salutation = \"How are you Walter?\"  # Defines a variable named salutation and assigns it the value \"How are you?\"\n",
    "country =\"Zimbabwe\"\n",
    "x = 56"
   ]
  },
  {
   "cell_type": "markdown",
   "metadata": {
    "id": "rRp46-X6aKwD"
   },
   "source": [
    "To display the values of the three defined variables, we use the `print()` function—a function that we will discuss in more detail when we cover function objects in Python. The `print()` function is essential in Python for outputting data to the console, allowing you to see the current state of your variables and debug your code effectively. This function can take multiple arguments, meaning you can print several variables at once, and it automatically converts them to their string representation if necessary."
   ]
  },
  {
   "cell_type": "code",
   "execution_count": 49,
   "metadata": {
    "id": "I9vsTYT_aKwD"
   },
   "outputs": [
    {
     "name": "stdout",
     "output_type": "stream",
     "text": [
      "How are you Walter? from Zimbabwe. Do you like 3.141592653589793\n"
     ]
    }
   ],
   "source": [
    "print(f\"{salutation} from {country}. Do you like {y}\")"
   ]
  },
  {
   "cell_type": "markdown",
   "metadata": {
    "id": "44fpkTzLaKwD"
   },
   "source": [
    "To display the three values on the same line, you use a single `print()` function, separating the variables with commas. The commas in the print() function automatically insert spaces between the values, making it easy to format your output in a readable manner. This approach allows you to output multiple pieces of data in a single line without needing to manually concatenate strings or add spaces."
   ]
  },
  {
   "cell_type": "code",
   "execution_count": 50,
   "metadata": {
    "id": "tX3HgnGOaKwD"
   },
   "outputs": [
    {
     "name": "stdout",
     "output_type": "stream",
     "text": [
      "How are you Walter? from Zimbabwe. Do you like 3.141592653589793\n"
     ]
    }
   ],
   "source": [
    "print(f\"{salutation} from {country}. Do you like {y}\")"
   ]
  },
  {
   "cell_type": "markdown",
   "metadata": {
    "id": "N5yEvfC5aKwD"
   },
   "source": []
  },
  {
   "cell_type": "markdown",
   "metadata": {
    "id": "AG1wn19XaKwD"
   },
   "source": [
    "### 1.1. Through multiple assignment\n",
    "\n",
    "The examples presented fall under what we call `direct assignment`. A `multiple assignment` is a specific case of `direct assignment` where the same value is assigned to multiple variables in a single line of code. This technique is useful when you need to initialize several variables with the same starting value efficiently, keeping your code concise and readable."
   ]
  },
  {
   "cell_type": "markdown",
   "metadata": {
    "id": "o4S7T3z6aKwE"
   },
   "source": [
    "\n",
    "```python\n",
    "x = y = 7  # x and y are both assigned the value 7 simultaneously.\n",
    "```\n",
    "\n",
    "In this line of code, the variables `x` and `y` are assigned the same value of $7$ at the same time. This is an example of a `multiple assignment`, where a single value is efficiently assigned to multiple variables in one statement. This technique is particularly useful when initializing variables with the same initial value, ensuring consistency across your code."
   ]
  },
  {
   "cell_type": "code",
   "execution_count": 51,
   "metadata": {
    "id": "PK_4rtfbaKwE"
   },
   "outputs": [
    {
     "name": "stdout",
     "output_type": "stream",
     "text": [
      "How is Aims Rwanda\n",
      "=======================\n",
      "How is Aims Rwanda\n"
     ]
    }
   ],
   "source": [
    "x = y = \"How is Aims Rwanda\"  # x and y are both assigned the value 7 simultaneously.\n",
    "print(x)\n",
    "print(\"=======================\")\n",
    "print(y)"
   ]
  },
  {
   "cell_type": "markdown",
   "metadata": {
    "id": "NoUAagntaKwE"
   },
   "source": [
    "### 1.2. Parallel assignment\n",
    "\n",
    "\n",
    "\n",
    "A `parallel assignment` involves defining multiple variables using a single equals sign. This technique allows you to assign different values to several variables simultaneously in a single line of code. It enhances code readability and efficiency, especially when you need to initialize multiple variables at once. Example:"
   ]
  },
  {
   "cell_type": "markdown",
   "metadata": {
    "id": "h72adqrCaKwE"
   },
   "source": [
    "\n",
    "```python\n",
    "x, y = 4, 8.33  # Defines two variables, x and y, with values 4 and 8.33 respectively.\n",
    "```\n",
    "\n",
    "In this line of code, `x` is assigned the value 4, and `y` is assigned the value 8.33 simultaneously. This is an example of `parallel assignment`, where multiple variables are defined in a single statement. This approach is particularly useful for initializing or updating several variables in a concise and organized manner."
   ]
  },
  {
   "cell_type": "code",
   "execution_count": 52,
   "metadata": {
    "id": "Aqm_0FFNaKwF"
   },
   "outputs": [],
   "source": [
    "x, y = 10, 89.33  # Defines two variables, x and y, with values 10 and 89.33 respectively."
   ]
  },
  {
   "cell_type": "code",
   "execution_count": 54,
   "metadata": {},
   "outputs": [
    {
     "name": "stdout",
     "output_type": "stream",
     "text": [
      "Value of x is 10 and the value of y is 89.33\n"
     ]
    }
   ],
   "source": [
    "print(f\"Value of x is {x} and the value of y is {y}\")"
   ]
  },
  {
   "cell_type": "code",
   "execution_count": 57,
   "metadata": {},
   "outputs": [
    {
     "name": "stdout",
     "output_type": "stream",
     "text": [
      "x= 10\n",
      "y=89.33\n",
      "z=12\n"
     ]
    }
   ],
   "source": [
    "x, y, z = 10, 89.33, 12  # Defines two variables, x,y and z with values 10 and 89.33 respectively, \n",
    "\n",
    "print(f\"x= {x}\\ny={y}\\nz={z}\")"
   ]
  },
  {
   "cell_type": "markdown",
   "metadata": {
    "id": "KdBzKTgGaKwG"
   },
   "source": [
    "### 1.3. Based on other variables"
   ]
  },
  {
   "cell_type": "code",
   "execution_count": 58,
   "metadata": {
    "id": "LVpvGqT7aKwG"
   },
   "outputs": [
    {
     "name": "stdout",
     "output_type": "stream",
     "text": [
      "99.33 15 178.66\n"
     ]
    }
   ],
   "source": [
    "#Define a variable based on other variables\n",
    "z1 = x + y  # Defines the variable named z1 and assigns it the sum of variables x and y\n",
    "z2 = x + 5  # Defines the variable named z2 by adding 5 to the value of x\n",
    "z3 = 2 * y  # Defines the variable named z3 by multiplying the value of y by 2\n",
    "\n",
    "print(z1,z2,z3)"
   ]
  },
  {
   "cell_type": "code",
   "execution_count": null,
   "metadata": {
    "id": "eb8yyX7YaKwG"
   },
   "outputs": [],
   "source": []
  },
  {
   "cell_type": "markdown",
   "metadata": {
    "id": "XTpvb2JBaKwG"
   },
   "source": [
    "<left> <b> <span style=\"color:red;\">Assignment is not comparison!</span> </b></left>\n",
    "It is important to note that the assignment operator `=` does not have the same meaning as the equality symbol `=` in mathematics. For example, the assignment operator is not symmetric, while the equality symbol is: attempting to swap the order of elements in an assignment statement will inevitably result in an error in the interpreter:\n"
   ]
  },
  {
   "cell_type": "code",
   "execution_count": 13,
   "metadata": {
    "id": "LCSIQtWXaKwG"
   },
   "outputs": [
    {
     "ename": "SyntaxError",
     "evalue": "cannot assign to literal (<ipython-input-13-19d32c7debe7>, line 2)",
     "output_type": "error",
     "traceback": [
      "\u001b[0;36m  File \u001b[0;32m\"<ipython-input-13-19d32c7debe7>\"\u001b[0;36m, line \u001b[0;32m2\u001b[0m\n\u001b[0;31m    128 = a\u001b[0m\n\u001b[0m    ^\u001b[0m\n\u001b[0;31mSyntaxError\u001b[0m\u001b[0;31m:\u001b[0m cannot assign to literal\n"
     ]
    }
   ],
   "source": [
    "# Error\n",
    "128 = a"
   ]
  },
  {
   "cell_type": "code",
   "execution_count": null,
   "metadata": {},
   "outputs": [],
   "source": [
    "a = 128"
   ]
  },
  {
   "cell_type": "markdown",
   "metadata": {
    "id": "xwIuuQyLaKwH"
   },
   "source": [
    "This brings us to briefly discuss permissible variable names in Python."
   ]
  },
  {
   "cell_type": "markdown",
   "metadata": {
    "id": "mB71wQxYaKwH"
   },
   "source": [
    "#### <left> <b> <span style=\"color:brown;\">Naming Conventions</span> </b></left>\n"
   ]
  },
  {
   "cell_type": "markdown",
   "metadata": {
    "id": "KzaWniImaKwH"
   },
   "source": [
    "Naming conventions for different elements of code are important because they provide additional information to developers about the nature of certain attributes or variables. The conventions for variable names are as follows:\n",
    "\n",
    "   - Reserved keywords such as `if`, `else`, etc., cannot be used as variable names.\n",
    "   - Variable names can start with `_`, `$`, or a letter.\n",
    "   - Variable names can be in lowercase or uppercase.\n",
    "   - Variable names cannot start with a digit.\n",
    "   - White spaces are not allowed in variable names.\n",
    "\n",
    "<left> <b> <span style=\"color:brown;\"> A good programmer naturally strives to choose the most meaningful variable names possible. </span> </b></left>\n"
   ]
  },
  {
   "cell_type": "markdown",
   "metadata": {
    "id": "zsJ0IfnEaKwH"
   },
   "source": [
    "In Python, there are **33** reserved keywords, and the list is provided below:\n"
   ]
  },
  {
   "cell_type": "markdown",
   "metadata": {
    "id": "X3D7heJWaKwH"
   },
   "source": [
    "|             |                  |                  |                  |                  |\n",
    "|-------------|------------------|------------------|------------------|------------------|\n",
    "|``and``      | ``elif``         | ``if``           | ``or``           | ``yield``        |\n",
    "|``as``       | ``else``         | ``import``       | ``pass``         |                  |\n",
    "|``assert``   | ``except``       | ``in``           | ``raise``        |                  |  \n",
    "|``break``    | ``False``        | ``is``           | ``return``       |                  |\n",
    "|``class``    | ``finally``      | ``lambda``       | ``True``         |                  |\n",
    "|``continue`` | ``for``          | ``None``         | ``try``          |                  |\n",
    "|``def``      | ``from``         | ``nonlocal``     | ``while``        |                  |\n",
    "|``del``      | ``global``       | ``not``          | ``with``         |                  |"
   ]
  },
  {
   "cell_type": "markdown",
   "metadata": {
    "id": "IhHyNR3DaKwH"
   },
   "source": [
    "To get the list of reserved keywords in Python, you can use the `keyword` module. Here’s how you can do it:\n",
    "\n",
    "1. **Import the `keyword` module**:\n",
    "   ```python\n",
    "   import keyword\n",
    "   ```\n",
    "\n",
    "2. **Use the `keyword.kwlist` attribute to get the list of keywords**:\n",
    "   ```python\n",
    "   print(keyword.kwlist)\n",
    "   ```\n",
    "\n",
    "3. **To check if a specific word is a keyword**:\n",
    "   ```python\n",
    "   print(keyword.iskeyword('if'))  # Returns True\n",
    "   print(keyword.iskeyword('my_var'))  # Returns False\n",
    "   ```\n",
    "\n",
    "The `keyword.kwlist` attribute returns a list of all reserved keywords in Python, and the `keyword.iskeyword()` function checks if a given string is a keyword."
   ]
  },
  {
   "cell_type": "code",
   "execution_count": null,
   "metadata": {
    "id": "GZ-AARhIaKwH"
   },
   "outputs": [],
   "source": [
    "import keyword\n",
    "print(keyword.kwlist)"
   ]
  },
  {
   "cell_type": "code",
   "execution_count": null,
   "metadata": {
    "id": "7zZk02AxaKwI"
   },
   "outputs": [],
   "source": [
    "print(keyword.iskeyword('if'))  # Returns True\n",
    "print(keyword.iskeyword('my_var'))  # Returns False"
   ]
  },
  {
   "cell_type": "markdown",
   "metadata": {
    "id": "SO1uqblaaKwI"
   },
   "source": [
    "**Note**: Python is case-sensitive, so variable names `Age` and `age` are considered distinct. Depending on the language, there is a [naming convention](https://en.wikipedia.org/wiki/Naming_convention_(programming)#Python_and_Ruby) that is recommended:\n",
    "\n",
    "- `UpperCamelCase` for class names;\n",
    "\n",
    "- `CAPITALIZED_WITH_UNDERSCORES` for constants;\n",
    "\n",
    "- `lowercase_separated_by_underscores` or `snake_case` for other variables.\n"
   ]
  },
  {
   "cell_type": "markdown",
   "metadata": {
    "id": "BIhPee9jaKwI"
   },
   "source": [
    "****\n",
    "**A Fundamental Exercise: Swapping the Contents of Two Variables**\n",
    "\n",
    "> Let's assume that the variables `x` and `y` have the values of integers $\\alpha$ and $\\beta$ respectively. The goal is to swap the contents of these two variables.\n",
    "\n",
    ">   - a. First Method: Propose a method that uses an auxiliary variable `tmp`.\n",
    "       ```python\n",
    "          tmp = x\n",
    "          x = y\n",
    "          y = tmp\n",
    "       ```\n",
    ">   - b. Second Method: Execute the following sequence of instructions:\n",
    "       ```python\n",
    "          x = x + y; y = x - y; x = x - y  \n",
    "       ```\n",
    "       \n",
    ">   - c. Third Method (the most \"Pythonic\"): Use parallel assignment.\n",
    "      ```python\n",
    "         x, y = y, x\n",
    "      ```   \n",
    "****\n",
    "\n",
    "Example:\n"
   ]
  },
  {
   "cell_type": "code",
   "execution_count": 59,
   "metadata": {
    "id": "8yWMWbhqaKwI"
   },
   "outputs": [
    {
     "name": "stdout",
     "output_type": "stream",
     "text": [
      "5.7 10\n",
      "================================================\n",
      "\t\n",
      "10 5.7\n",
      "7 9\n",
      "================================================\n",
      "\t\n",
      "9 7\n",
      "90 15\n",
      "================================================\n",
      "\t\n",
      "15 90\n"
     ]
    }
   ],
   "source": [
    "# First Method\n",
    "\n",
    "x = 5.7\n",
    "y = 10\n",
    "print(x, y)\n",
    "print(\"================================================\")\n",
    "print('\\t')\n",
    "\n",
    "tmp = x\n",
    "x = y\n",
    "y = tmp\n",
    "print(x, y)\n",
    "\n",
    "# Second Method\n",
    "\n",
    "x = 7\n",
    "y = 9\n",
    "print(x, y)\n",
    "print(\"================================================\")\n",
    "print('\\t')\n",
    "\n",
    "x = x + y; y = x - y; x = x - y\n",
    "print(x, y)\n",
    "\n",
    "# Third Method\n",
    "\n",
    "x = 90\n",
    "y = 15\n",
    "print(x, y)\n",
    "print(\"================================================\")\n",
    "print('\\t')\n",
    "\n",
    "x, y = y, x\n",
    "print(x, y)\n"
   ]
  },
  {
   "cell_type": "markdown",
   "metadata": {
    "id": "zZB9CoyCaKwJ"
   },
   "source": [
    "It's worth noting that to delete a variable in Python, you can use the `del` function. This function removes the variable from the current namespace, effectively deleting it and freeing up any resources it was using. For example:\n",
    "\n",
    "```python\n",
    "x = 10  # Define a variable x\n",
    "del x   # Delete the variable x\n",
    "```\n",
    "\n",
    "After executing `del x`, the variable `x` will no longer exist in the current scope, and attempting to access it will result in a `NameError`."
   ]
  },
  {
   "cell_type": "code",
   "execution_count": 60,
   "metadata": {
    "id": "Lw54BXAdaKwJ"
   },
   "outputs": [
    {
     "name": "stdout",
     "output_type": "stream",
     "text": [
      "19.999\n"
     ]
    },
    {
     "ename": "NameError",
     "evalue": "name 'x' is not defined",
     "output_type": "error",
     "traceback": [
      "\u001b[0;31m---------------------------------------------------------------------------\u001b[0m",
      "\u001b[0;31mNameError\u001b[0m                                 Traceback (most recent call last)",
      "\u001b[0;32m<ipython-input-60-579bedcb585d>\u001b[0m in \u001b[0;36m<module>\u001b[0;34m\u001b[0m\n\u001b[1;32m      3\u001b[0m \u001b[0;34m\u001b[0m\u001b[0m\n\u001b[1;32m      4\u001b[0m \u001b[0;32mdel\u001b[0m \u001b[0mx\u001b[0m   \u001b[0;31m# Delete the variable x\u001b[0m\u001b[0;34m\u001b[0m\u001b[0;34m\u001b[0m\u001b[0m\n\u001b[0;32m----> 5\u001b[0;31m \u001b[0mprint\u001b[0m\u001b[0;34m(\u001b[0m\u001b[0mx\u001b[0m\u001b[0;34m)\u001b[0m\u001b[0;34m\u001b[0m\u001b[0;34m\u001b[0m\u001b[0m\n\u001b[0m",
      "\u001b[0;31mNameError\u001b[0m: name 'x' is not defined"
     ]
    }
   ],
   "source": [
    "x = 19.999  # Define a variable x\n",
    "print(x)\n",
    "\n",
    "del x   # Delete the variable x\n",
    "print(x)"
   ]
  },
  {
   "cell_type": "markdown",
   "metadata": {
    "id": "debXLQeWaKwJ"
   },
   "source": [
    "## 2. Type of a Variable\n",
    "\n",
    "In Python, the type of a variable refers to the kind of data it holds, such as integers, floating-point numbers, strings, or more complex data structures. Python dynamically assigns the type based on the value assigned to the variable. This type can be determined at any point in the code using the `type()` function.\n",
    "\n",
    "The type of a variable corresponds to its nature. There are many types of variables (integer, real number, strings, etc.). The most commonly encountered types of variables are integers (`int`), real numbers (`float`), and strings (`str`).\n",
    "\n",
    "**The basic types include:**\n",
    "\n",
    "- **None** (nothing)\n",
    "- **String types:** `str`\n",
    "   - Enclosed in (single, double, or triple) quotes `'` or `\"`: `'Calvin'`, `\"Calvin'n'Hobbes\"`, `'''Two\\nlines'''`, `\"\"\"'Why?' he asked.\"\"\"`\n",
    "   - Conversion: `str(3.2)`\n",
    "- **Numeric types:**\n",
    "   - **Booleans** `bool` (true/false): `True`, `False`\n",
    "   - **Integers** `int` (no explicit limit value, corresponds to at least C's long type): `-2`, `int(2.1)`, `int(\"4\")`\n",
    "   - **Reals** `float`\n",
    "   - **Complex** `complex`: `1+2j`, `5.1j`, `complex(-3.14)`, `complex('j')`\n",
    "- **Iterable objects:**\n",
    "   - **Lists** `list`: `['a', 3, [1, 2], 'a']`\n",
    "   - **Immutable lists** `tuple`: `(2, 3.1, 'a', [])` (depending on the usage, parentheses are not always required)\n",
    "   - **Keyed lists** `dict`: `{'a':1, 'b':[1, 2], 3:'c'}`\n",
    "   - **Unordered sets of unique elements** `set`: `{1, 2, 3, 2}`"
   ]
  },
  {
   "cell_type": "markdown",
   "metadata": {
    "id": "LfiORq3waKwJ"
   },
   "source": [
    "### 2.0. None (nothing)\n",
    "The `None` type represents the absence of a value or a null value in Python. It is often used to signify that a variable has no value assigned to it or to indicate the end of a list, function, or loop.\n",
    "\n",
    "**Example:**\n",
    "```python\n",
    "x = None\n",
    "```"
   ]
  },
  {
   "cell_type": "code",
   "execution_count": 61,
   "metadata": {
    "id": "1Hvmm9draKwJ"
   },
   "outputs": [
    {
     "name": "stdout",
     "output_type": "stream",
     "text": [
      "True <class 'bool'>\n"
     ]
    }
   ],
   "source": [
    "x = True\n",
    "print(x, type(x))"
   ]
  },
  {
   "cell_type": "markdown",
   "metadata": {
    "id": "80hwY-fGaKwK"
   },
   "source": [
    "### 2.1. String Types (`str`)\n",
    "Strings in Python are sequences of characters enclosed in quotes. They can be defined using single (`'`), double (`\"`), or triple quotes (`'''` or `\"\"\"`). Triple quotes allow for multi-line strings.\n",
    "\n",
    "**Examples:**\n",
    "```python\n",
    "name = 'Calvin'\n",
    "quote = \"Calvin'n'Hobbes\"\n",
    "multi_line = '''Two\n",
    "lines'''\n",
    "```"
   ]
  },
  {
   "cell_type": "code",
   "execution_count": 62,
   "metadata": {},
   "outputs": [],
   "source": [
    "name = 'Walter'\n",
    "quote = \"Walter'n'Rugby\"\n",
    "multi_line = 'Two'"
   ]
  },
  {
   "cell_type": "code",
   "execution_count": 63,
   "metadata": {},
   "outputs": [
    {
     "name": "stdout",
     "output_type": "stream",
     "text": [
      "Walter\n"
     ]
    }
   ],
   "source": [
    "print(name)"
   ]
  },
  {
   "cell_type": "code",
   "execution_count": 64,
   "metadata": {},
   "outputs": [
    {
     "name": "stdout",
     "output_type": "stream",
     "text": [
      "Walter'n'Rugby\n"
     ]
    }
   ],
   "source": [
    "print(quote)"
   ]
  },
  {
   "cell_type": "code",
   "execution_count": 65,
   "metadata": {},
   "outputs": [
    {
     "data": {
      "text/plain": [
       "str"
      ]
     },
     "execution_count": 65,
     "metadata": {},
     "output_type": "execute_result"
    }
   ],
   "source": [
    "type(name)"
   ]
  },
  {
   "cell_type": "code",
   "execution_count": 66,
   "metadata": {},
   "outputs": [
    {
     "name": "stdout",
     "output_type": "stream",
     "text": [
      "Walter <class 'str'> \n",
      "\n",
      "====================================\n",
      "Walter'n'Rugby <class 'str'> \n",
      "\n",
      "====================================\n",
      "Two <class 'str'> \n",
      "\n",
      "====================================\n"
     ]
    }
   ],
   "source": [
    "print(name, type(name), '\\n')\n",
    "print('====================================')\n",
    "\n",
    "print(quote, type(quote), '\\n')\n",
    "print('====================================')\n",
    "\n",
    "print(multi_line, type(multi_line), '\\n')\n",
    "print('====================================')"
   ]
  },
  {
   "cell_type": "markdown",
   "metadata": {
    "id": "bNs41IFqaKwK"
   },
   "source": [
    "### 2.2. Numeric Types"
   ]
  },
  {
   "cell_type": "markdown",
   "metadata": {
    "id": "czqop6T1aKwK"
   },
   "source": [
    "#### 2.2.0. Booleans (`bool`)\n",
    "Booleans represent one of two values: `True` or `False`. They are often used in conditional statements to determine the flow of a program.\n",
    "\n",
    "**Examples:**\n",
    "```python\n",
    "is_active = True\n",
    "has_permission = False\n",
    "```"
   ]
  },
  {
   "cell_type": "code",
   "execution_count": 67,
   "metadata": {
    "id": "jRlQRdvhaKwK"
   },
   "outputs": [
    {
     "name": "stdout",
     "output_type": "stream",
     "text": [
      "True <class 'bool'> \n",
      "\n",
      "====================================\n",
      "False <class 'bool'> \n",
      "\n"
     ]
    }
   ],
   "source": [
    "is_active = True\n",
    "has_permission = False\n",
    "\n",
    "\n",
    "print(is_active, type(is_active), '\\n')\n",
    "print('====================================')\n",
    "\n",
    "print(has_permission, type(has_permission), '\\n')\n"
   ]
  },
  {
   "cell_type": "markdown",
   "metadata": {
    "id": "xFa95RpfaKwK"
   },
   "source": [
    "####  2.2.1. Integers (`int`)\n",
    "Integers are whole numbers without a fractional component. In Python, integers can be of arbitrary precision, meaning they can be as large as the memory allows.\n",
    "\n",
    "**Examples:**\n",
    "```python\n",
    "age = 25\n",
    "negative_number = -42\n",
    "```"
   ]
  },
  {
   "cell_type": "code",
   "execution_count": 68,
   "metadata": {
    "id": "QJauvxXTaKwL"
   },
   "outputs": [
    {
     "name": "stdout",
     "output_type": "stream",
     "text": [
      "1000 <class 'int'> \n",
      "\n",
      "====================================\n",
      "-42 <class 'int'>\n"
     ]
    }
   ],
   "source": [
    "age = 1000\n",
    "negative_number = -42\n",
    "\n",
    "print(age, type(age), '\\n')\n",
    "print('====================================')\n",
    "print(negative_number, type(negative_number))"
   ]
  },
  {
   "cell_type": "markdown",
   "metadata": {
    "id": "S_IGnv8maKwL"
   },
   "source": [
    "####  2.2.2. Reals (`float`)\n",
    "Floating-point numbers (floats) are numbers with a decimal point. They are used to represent real numbers in Python.\n",
    "\n",
    "**Examples:**\n",
    "```python\n",
    "pi = 3.14159\n",
    "temperature = -2.5\n",
    "```"
   ]
  },
  {
   "cell_type": "code",
   "execution_count": 69,
   "metadata": {
    "id": "MS-mwNJGaKwL"
   },
   "outputs": [
    {
     "name": "stdout",
     "output_type": "stream",
     "text": [
      "10.6 <class 'float'> \n",
      "\n",
      "====================================\n",
      "-2.5 <class 'float'>\n"
     ]
    }
   ],
   "source": [
    "pi = 10.6\n",
    "temperature = -2.5\n",
    "\n",
    "\n",
    "print(pi, type(pi), '\\n')\n",
    "print('====================================')\n",
    "print(temperature, type(temperature))"
   ]
  },
  {
   "cell_type": "markdown",
   "metadata": {
    "id": "uWVP_s-3aKwL"
   },
   "source": [
    "#### 2.2.3. Complex (`complex`)\n",
    "Complex numbers in Python consist of a real part and an imaginary part. They are represented by `a + bj`, where `a` is the real part and `b` is the imaginary part.\n",
    "\n",
    "**Examples:**\n",
    "```python\n",
    "z = 1 + 2j\n",
    "w = complex(3, -4)\n",
    "```"
   ]
  },
  {
   "cell_type": "code",
   "execution_count": 70,
   "metadata": {
    "id": "o5_BApqKaKwL"
   },
   "outputs": [
    {
     "name": "stdout",
     "output_type": "stream",
     "text": [
      "(10+22j) <class 'complex'>\n",
      "====================================\n",
      "(3-4j) <class 'complex'>\n"
     ]
    }
   ],
   "source": [
    "z = 10 + 22j\n",
    "w = complex(3, -4)\n",
    "\n",
    "print(z, type(z))\n",
    "print('====================================')\n",
    "print(w, type(w))"
   ]
  },
  {
   "cell_type": "markdown",
   "metadata": {
    "id": "TCaQLIgUaKwM"
   },
   "source": [
    "### 2.3. Iterable Objects\n",
    "\n",
    "#### 2.3.0. Lists (`list`)\n",
    "A list is an ordered collection of items that can be of different types. Lists are mutable, meaning their contents can be changed after creation.\n",
    "\n",
    "**Examples:**\n",
    "```python\n",
    "fruits = ['apple', 'banana', 'cherry']\n",
    "mixed = [1, 'two', 3.0, [4, 5]]\n",
    "```"
   ]
  },
  {
   "cell_type": "code",
   "execution_count": 71,
   "metadata": {
    "id": "H0VguWrCaKwM"
   },
   "outputs": [
    {
     "name": "stdout",
     "output_type": "stream",
     "text": [
      "['apple', 'banana', 'cherry', 'watermelon'] <class 'list'>\n",
      "====================================\n",
      "[1, 'two', 3.0, [4, 5]] <class 'list'>\n"
     ]
    }
   ],
   "source": [
    "fruits = ['apple', 'banana', 'cherry','watermelon']\n",
    "mixed = [1, 'two', 3.0, [4, 5]]\n",
    "\n",
    "\n",
    "print(fruits, type(fruits))\n",
    "print('====================================')\n",
    "print(mixed, type(mixed))"
   ]
  },
  {
   "cell_type": "markdown",
   "metadata": {
    "id": "9r9xyn9JaKwM"
   },
   "source": [
    "#### 2.3.1. Immutable Lists (`tuple`)\n",
    "A tuple is similar to a list but is immutable, meaning its contents cannot be changed after creation. Tuples are often used to store collections of related data.\n",
    "\n",
    "**Examples:**\n",
    "```python\n",
    "coordinates = (10.5, 20.8)\n",
    "colors = ('red', 'green', 'blue')\n",
    "```"
   ]
  },
  {
   "cell_type": "code",
   "execution_count": 72,
   "metadata": {
    "id": "KaIp7Td1aKwM"
   },
   "outputs": [
    {
     "name": "stdout",
     "output_type": "stream",
     "text": [
      "(10.5, 50, 20.8) <class 'tuple'>\n",
      "====================================\n",
      "('red', 'green', 'blue', 'yellow') <class 'tuple'>\n"
     ]
    }
   ],
   "source": [
    "coordinates = (10.5, 50,20.8)\n",
    "colors = ('red', 'green', 'blue', 'yellow')\n",
    "\n",
    "print(coordinates, type(coordinates))\n",
    "print('====================================')\n",
    "print(colors, type(colors))"
   ]
  },
  {
   "cell_type": "markdown",
   "metadata": {
    "id": "HDGv4o04aKwN"
   },
   "source": [
    "#### 2.3.2. Keyed Lists (`dict`)\n",
    "A dictionary is a collection of key-value pairs, where each key is associated with a value. Dictionaries are mutable and allow for fast lookup of values based on their keys.\n",
    "\n",
    "**Examples:**\n",
    "```python\n",
    "person = {'name': 'Alice', 'age': 30}\n",
    "inventory = {'apples': 10, 'bananas': 20}\n",
    "```"
   ]
  },
  {
   "cell_type": "code",
   "execution_count": 73,
   "metadata": {
    "id": "Vqtr60uhaKwN"
   },
   "outputs": [
    {
     "name": "stdout",
     "output_type": "stream",
     "text": [
      "{'name': 'Alice', 'age': 30, 'car': 'Mustang'} <class 'dict'>\n",
      "====================================\n",
      "{'apples': 10, 'bananas': 20, 'orange': 60} <class 'dict'>\n"
     ]
    }
   ],
   "source": [
    "person = {'name': 'Alice', 'age': 30, 'car': 'Mustang'}\n",
    "inventory = {'apples': 10, 'bananas': 20, 'orange': 60}\n",
    "\n",
    "\n",
    "print(person, type(person))\n",
    "print('====================================')\n",
    "print(inventory, type(inventory))"
   ]
  },
  {
   "cell_type": "markdown",
   "metadata": {
    "id": "aM4x-AraaKwN"
   },
   "source": [
    "#### 2.3.3. Unordered Sets of Unique Elements (`set`)\n",
    "A set is an unordered collection of unique elements. Sets are useful for membership tests and eliminating duplicate entries.\n",
    "\n",
    "**Examples:**\n",
    "```python\n",
    "unique_numbers = {1, 2, 3, 2}\n",
    "letters = {'a', 'b', 'c', 'a'}\n",
    "```"
   ]
  },
  {
   "cell_type": "code",
   "execution_count": 74,
   "metadata": {
    "id": "PXwex1P4aKwN"
   },
   "outputs": [
    {
     "name": "stdout",
     "output_type": "stream",
     "text": [
      "{1, 2, 3} <class 'set'>\n",
      "====================================\n",
      "{'c', 'b', 'a'} <class 'set'>\n"
     ]
    }
   ],
   "source": [
    "unique_numbers = {1, 2, 3, 2}\n",
    "letters = {'a', 'b', 'c', 'a'}\n",
    "\n",
    "print(unique_numbers, type(unique_numbers))\n",
    "print('====================================')\n",
    "print(letters , type(letters ))\n"
   ]
  },
  {
   "cell_type": "markdown",
   "metadata": {
    "id": "3VTM37a3aKwN"
   },
   "source": [
    "### 2.4. Dynamic Typing in Python\n",
    "\n",
    "Python is a dynamically typed language, meaning that the type of a variable is determined at runtime rather than at compile time. In Python, you don't need to declare the type of a variable when you create it. Instead, the type is inferred based on the value assigned to the variable. This allows for more flexibility but also requires careful handling to avoid type-related errors.\n",
    "\n",
    "#### Key Characteristics of Dynamic Typing:\n",
    "\n",
    "- **No Type Declaration**: You simply assign a value to a variable, and Python automatically knows what type it is.\n",
    "    ```python\n",
    "    x = 10        # x is an integer\n",
    "    x = \"hello\"   # Now, x is a string\n",
    "    ```\n",
    "- **Type Flexibility**: The type of a variable can change over its lifetime. You can reassign a variable to a value of a different type without any issues.\n",
    "    ```python\n",
    "    y = 3.14      # y is initially a float\n",
    "    y = True      # Now, y is a boolean\n",
    "    ```\n",
    "- **Memory Management**: Python handles memory management automatically. When you reassign a variable to a new value, the previous value is discarded if it’s no longer referenced elsewhere in the code.\n",
    "\n",
    "#### Pros and Cons of Dynamic Typing:\n",
    "\n",
    "- **Pros**:\n",
    "  - **Flexibility**: You can write more general-purpose code since the type is not fixed.\n",
    "  - **Ease of Use**: Less boilerplate code, as there is no need for explicit type declarations.\n",
    "  \n",
    "- **Cons**:\n",
    "  - **Type-Related Errors**: Since types are determined at runtime, it’s possible to encounter errors if the wrong type is used in an operation.\n",
    "  - **Performance**: Dynamic typing can be slower than static typing because type checks are done at runtime.\n",
    "\n",
    "#### Example:\n",
    "```python\n",
    "# Initially, 'data' is an integer\n",
    "data = 100\n",
    "\n",
    "# Now, 'data' is a string\n",
    "data = \"Dynamic Typing\"\n",
    "\n",
    "# And now 'data' is a list\n",
    "data = [1, 2, 3]\n",
    "\n",
    "# Python handles these changes without any issues\n",
    "```"
   ]
  },
  {
   "cell_type": "markdown",
   "metadata": {
    "id": "GBstLCuuaKwN"
   },
   "source": [
    "### 2.5.  Coercion in Python\n",
    "\n",
    "**Coercion** in Python refers to the automatic conversion of one data type to another during operations that involve different types. Python is designed to handle these type conversions in a way that makes the language easier to use and reduces the need for manual type casting.\n",
    "\n",
    "#### Key Points About Coercion:\n",
    "\n",
    "- **Implicit Coercion**: Python automatically converts one data type to another when necessary to perform an operation. This usually happens in arithmetic operations involving different types, like an integer and a float.\n",
    "  - For example, if you add an integer to a float, Python will convert the integer to a float before performing the addition.\n",
    "  \n",
    "- **Explicit Coercion**: While Python handles many conversions automatically, you can also manually convert types using built-in functions like `int()`, `float()`, `str()`, etc. This is known as explicit type casting."
   ]
  },
  {
   "cell_type": "markdown",
   "metadata": {
    "id": "0qaCkEhjaKwO"
   },
   "source": [
    "#### 2.5. 0. Implicit Coercion Example:\n",
    "\n",
    "```python\n",
    "# Adding an integer and a float\n",
    "x = 5        # int\n",
    "y = 3.2      # float\n",
    "\n",
    "# Python automatically converts 'x' to a float before performing the addition\n",
    "result = x + y\n",
    "\n",
    "print(result)  # Output: 8.2 (float)\n",
    "```\n",
    "\n",
    "In the example above, Python automatically converts the integer `5` to a float `5.0` to perform the addition with the float `3.2`, resulting in a float `8.2`."
   ]
  },
  {
   "cell_type": "code",
   "execution_count": 75,
   "metadata": {
    "id": "aXASoEi2aKwO"
   },
   "outputs": [
    {
     "name": "stdout",
     "output_type": "stream",
     "text": [
      "5 <class 'int'> \n",
      "\n",
      "====================================\n",
      "3.2 <class 'float'> \n",
      "\n",
      "====================================\n",
      "8.2 <class 'float'>\n"
     ]
    }
   ],
   "source": [
    "# Adding an integer and a float\n",
    "x = 5        # int\n",
    "y = 3.2      # float\n",
    "\n",
    "# Python automatically converts 'x' to a float before performing the addition\n",
    "result = x + y\n",
    "\n",
    "\n",
    "\n",
    "\n",
    "print(x, type(x), '\\n')\n",
    "print('====================================')\n",
    "print(y, type(y),'\\n')\n",
    "print('====================================')\n",
    "print(result, type(result))  # Output: 8.2 (float)"
   ]
  },
  {
   "cell_type": "markdown",
   "metadata": {
    "id": "Emg2q50caKwO"
   },
   "source": [
    "#### 2.5.1. Explicit Coercion Example:\n",
    "\n",
    "```python\n",
    "# Converting a float to an integer\n",
    "a = 7.9\n",
    "b = int(a)  # Explicit coercion using the int() function\n",
    "\n",
    "print(b)  # Output: 7 (integer, with the decimal part truncated)\n",
    "```\n",
    "\n",
    "Here, the float `7.9` is explicitly converted to the integer `7` using the `int()` function, which removes the fractional part."
   ]
  },
  {
   "cell_type": "code",
   "execution_count": 36,
   "metadata": {
    "id": "4KdKGOxEaKwO"
   },
   "outputs": [
    {
     "name": "stdout",
     "output_type": "stream",
     "text": [
      "7\n"
     ]
    }
   ],
   "source": [
    "a = 7.9\n",
    "b = int(a)  # Explicit coercion using the int() function\n",
    "\n",
    "print(b)  # Output: 7 (integer, with the decimal part truncated)"
   ]
  },
  {
   "cell_type": "code",
   "execution_count": 76,
   "metadata": {},
   "outputs": [
    {
     "data": {
      "text/plain": [
       "3"
      ]
     },
     "execution_count": 76,
     "metadata": {},
     "output_type": "execute_result"
    }
   ],
   "source": [
    "a = int(math.pi)\n",
    "a"
   ]
  },
  {
   "cell_type": "markdown",
   "metadata": {
    "id": "GhUd_PwSaKwO"
   },
   "source": [
    "\n",
    "#### 2.5.2. Common Coercion Scenarios:\n",
    "\n",
    "- **String to Integer/Float**: When you need to convert a string containing numeric characters to an integer or float.\n",
    "  ```python\n",
    "  num_str = \"123\"\n",
    "  num_int = int(num_str)   # Converts to integer 123\n",
    "  num_float = float(num_str)  # Converts to float 123.0\n",
    "  ```\n",
    "\n",
    "- **Integer/Float to String**: When you need to concatenate a number with a string.\n",
    "  ```python\n",
    "  age = 25\n",
    "  message = \"I am \" + str(age) + \" years old.\"\n",
    "  ```\n",
    "\n",
    "- **Boolean to Integer**: `True` is coerced to `1` and `False` to `0` in numeric operations.\n",
    "  ```python\n",
    "  result = True + 2   # Output: 3 (1 + 2)\n",
    "  ```\n",
    "\n",
    "#### 2.5.3. Pros and Cons of Coercion:\n",
    "\n",
    "- **Pros**:\n",
    "  - Simplifies code by reducing the need for explicit type conversions.\n",
    "  - Makes the language more intuitive and user-friendly.\n",
    "\n",
    "- **Cons**:\n",
    "  - Can lead to unexpected results if the automatic type conversion doesn't align with the programmer's intent.\n",
    "  - Potentially hides bugs related to incorrect data types.\n",
    "\n",
    "Coercion in Python allows for smoother and more intuitive operations involving different data types. While it adds convenience, it's important to understand how and when Python performs these conversions to avoid unexpected behaviors."
   ]
  },
  {
   "cell_type": "markdown",
   "metadata": {
    "id": "bCB3bPDUaKwP"
   },
   "source": [
    "## 3. Methods associated with variables\n",
    "\n",
    "In Python, every variable is linked to a variety of attributes and methods that define its behavior and interactions. These methods are functions that are built into the variable's type and allow you to perform various operations on the variable. For example, methods can help you manipulate strings, perform mathematical operations, or interact with lists and dictionaries.\n",
    "\n",
    "The `dir()` function is useful for exploring these methods and understanding what operations are available for a given variable. By calling `dir()` on a variable, you get a list of all its attributes and methods, including those inherited from its type. This can be particularly helpful for discovering how to use a variable's methods or for debugging.\n",
    "\n",
    "Here's how you might use `dir()`:\n",
    "\n",
    "```python\n",
    "# Example with a string variable\n",
    "text = \"Hello, world!\"\n",
    "print(dir(text))\n",
    "\n",
    "# Example with a list variable\n",
    "numbers = [1, 2, 3, 4, 5]\n",
    "print(dir(numbers))\n",
    "```\n",
    "\n",
    "In the examples above, `dir(text)` will list methods related to string operations such as `upper()`, `lower()`, and `split()`, while `dir(numbers)` will show methods related to list operations like `append()`, `remove()`, and `sort()`. This feature of Python makes it easier to explore and utilize the functionalities associated with different data types."
   ]
  },
  {
   "cell_type": "code",
   "execution_count": 37,
   "metadata": {
    "id": "lZteprvjaKwP"
   },
   "outputs": [],
   "source": [
    "x = 2.5 # Définit une variable numérique x\n",
    "y = 'my text' # Définit une variable en chaîne de caractères y."
   ]
  },
  {
   "cell_type": "markdown",
   "metadata": {
    "id": "JQMn9LCpaKwP"
   },
   "source": [
    "Pour afficher l’ensemble des méthodes associées à chacune de ces variables, on fait :\n"
   ]
  },
  {
   "cell_type": "code",
   "execution_count": 77,
   "metadata": {
    "id": "v-3yc5FNaKwP"
   },
   "outputs": [
    {
     "name": "stdout",
     "output_type": "stream",
     "text": [
      "['__class__', '__class_getitem__', '__contains__', '__delattr__', '__delitem__', '__dir__', '__doc__', '__eq__', '__format__', '__ge__', '__getattribute__', '__getitem__', '__gt__', '__hash__', '__init__', '__init_subclass__', '__ior__', '__iter__', '__le__', '__len__', '__lt__', '__ne__', '__new__', '__or__', '__reduce__', '__reduce_ex__', '__repr__', '__reversed__', '__ror__', '__setattr__', '__setitem__', '__sizeof__', '__str__', '__subclasshook__', 'clear', 'copy', 'fromkeys', 'get', 'items', 'keys', 'pop', 'popitem', 'setdefault', 'update', 'values']\n"
     ]
    }
   ],
   "source": [
    "print(dir(person))"
   ]
  },
  {
   "cell_type": "code",
   "execution_count": 78,
   "metadata": {
    "id": "6esJte7JaKwP"
   },
   "outputs": [
    {
     "name": "stdout",
     "output_type": "stream",
     "text": [
      "['__add__', '__class__', '__class_getitem__', '__contains__', '__delattr__', '__delitem__', '__dir__', '__doc__', '__eq__', '__format__', '__ge__', '__getattribute__', '__getitem__', '__gt__', '__hash__', '__iadd__', '__imul__', '__init__', '__init_subclass__', '__iter__', '__le__', '__len__', '__lt__', '__mul__', '__ne__', '__new__', '__reduce__', '__reduce_ex__', '__repr__', '__reversed__', '__rmul__', '__setattr__', '__setitem__', '__sizeof__', '__str__', '__subclasshook__', 'append', 'clear', 'copy', 'count', 'extend', 'index', 'insert', 'pop', 'remove', 'reverse', 'sort']\n"
     ]
    }
   ],
   "source": [
    "print(dir(fruits))"
   ]
  },
  {
   "cell_type": "markdown",
   "metadata": {
    "id": "N_h-fgBMaKwP"
   },
   "source": [
    "You can also type `variable_name.` followed by `TAB` in many interactive Python environments or integrated development environments (IDEs). This action triggers autocompletion, which helps you see and select available methods and attributes associated with that variable. For example:\n",
    "\n",
    "1. Type `variable_name.` and press `TAB`.\n",
    "2. A list of methods and attributes that can be used with `variable_name` will appear.\n",
    "\n",
    "This feature is especially useful for exploring what operations you can perform on a variable and for quickly finding the right method without needing to remember exact method names."
   ]
  },
  {
   "cell_type": "code",
   "execution_count": null,
   "metadata": {
    "id": "1ym195tgaKwP"
   },
   "outputs": [],
   "source": [
    "# Type x. followed by `TAB`\n",
    "\n",
    "fruits."
   ]
  },
  {
   "cell_type": "markdown",
   "metadata": {
    "id": "kjkm83daaKwQ"
   },
   "source": [
    "To get help on a specific method in Python, you can use the `help()` function. The syntax is `help(variable_name.method_name)`, where `method_name` is the name of the method you are interested in. For example, if you have a numeric variable of type `float`, which includes a method named `conjugate`, you can obtain information about this method by running:\n",
    "\n",
    "```python\n",
    "print(help(x.conjugate))\n",
    "```\n",
    "\n",
    "This will display documentation about the `conjugate` method, including its purpose and usage, in the console or terminal."
   ]
  },
  {
   "cell_type": "code",
   "execution_count": 79,
   "metadata": {
    "id": "FWm4URK5aKwQ"
   },
   "outputs": [
    {
     "name": "stdout",
     "output_type": "stream",
     "text": [
      "Help on built-in function conjugate:\n",
      "\n",
      "conjugate(...) method of builtins.int instance\n",
      "    Returns self, the complex conjugate of any int.\n",
      "\n",
      "None\n"
     ]
    }
   ],
   "source": [
    "print(help(x.conjugate))"
   ]
  },
  {
   "cell_type": "markdown",
   "metadata": {
    "id": "gTtq_BukaKwQ"
   },
   "source": [
    "To display help on all the functions associated with a variable `x`, you simply use:\n",
    "\n",
    "```python\n",
    "help(x)\n",
    "```\n",
    "\n",
    "This command will show the documentation for the type of the variable `x`, including all the methods and attributes available for that type."
   ]
  },
  {
   "cell_type": "code",
   "execution_count": 80,
   "metadata": {
    "id": "E98af-XlaKwQ"
   },
   "outputs": [
    {
     "name": "stdout",
     "output_type": "stream",
     "text": [
      "Help on int object:\n",
      "\n",
      "class int(object)\n",
      " |  int([x]) -> integer\n",
      " |  int(x, base=10) -> integer\n",
      " |  \n",
      " |  Convert a number or string to an integer, or return 0 if no arguments\n",
      " |  are given.  If x is a number, return x.__int__().  For floating point\n",
      " |  numbers, this truncates towards zero.\n",
      " |  \n",
      " |  If x is not a number or if base is given, then x must be a string,\n",
      " |  bytes, or bytearray instance representing an integer literal in the\n",
      " |  given base.  The literal can be preceded by '+' or '-' and be surrounded\n",
      " |  by whitespace.  The base defaults to 10.  Valid bases are 0 and 2-36.\n",
      " |  Base 0 means to interpret the base from the string as an integer literal.\n",
      " |  >>> int('0b100', base=0)\n",
      " |  4\n",
      " |  \n",
      " |  Built-in subclasses:\n",
      " |      bool\n",
      " |  \n",
      " |  Methods defined here:\n",
      " |  \n",
      " |  __abs__(self, /)\n",
      " |      abs(self)\n",
      " |  \n",
      " |  __add__(self, value, /)\n",
      " |      Return self+value.\n",
      " |  \n",
      " |  __and__(self, value, /)\n",
      " |      Return self&value.\n",
      " |  \n",
      " |  __bool__(self, /)\n",
      " |      self != 0\n",
      " |  \n",
      " |  __ceil__(...)\n",
      " |      Ceiling of an Integral returns itself.\n",
      " |  \n",
      " |  __divmod__(self, value, /)\n",
      " |      Return divmod(self, value).\n",
      " |  \n",
      " |  __eq__(self, value, /)\n",
      " |      Return self==value.\n",
      " |  \n",
      " |  __float__(self, /)\n",
      " |      float(self)\n",
      " |  \n",
      " |  __floor__(...)\n",
      " |      Flooring an Integral returns itself.\n",
      " |  \n",
      " |  __floordiv__(self, value, /)\n",
      " |      Return self//value.\n",
      " |  \n",
      " |  __format__(self, format_spec, /)\n",
      " |      Default object formatter.\n",
      " |  \n",
      " |  __ge__(self, value, /)\n",
      " |      Return self>=value.\n",
      " |  \n",
      " |  __getattribute__(self, name, /)\n",
      " |      Return getattr(self, name).\n",
      " |  \n",
      " |  __getnewargs__(self, /)\n",
      " |  \n",
      " |  __gt__(self, value, /)\n",
      " |      Return self>value.\n",
      " |  \n",
      " |  __hash__(self, /)\n",
      " |      Return hash(self).\n",
      " |  \n",
      " |  __index__(self, /)\n",
      " |      Return self converted to an integer, if self is suitable for use as an index into a list.\n",
      " |  \n",
      " |  __int__(self, /)\n",
      " |      int(self)\n",
      " |  \n",
      " |  __invert__(self, /)\n",
      " |      ~self\n",
      " |  \n",
      " |  __le__(self, value, /)\n",
      " |      Return self<=value.\n",
      " |  \n",
      " |  __lshift__(self, value, /)\n",
      " |      Return self<<value.\n",
      " |  \n",
      " |  __lt__(self, value, /)\n",
      " |      Return self<value.\n",
      " |  \n",
      " |  __mod__(self, value, /)\n",
      " |      Return self%value.\n",
      " |  \n",
      " |  __mul__(self, value, /)\n",
      " |      Return self*value.\n",
      " |  \n",
      " |  __ne__(self, value, /)\n",
      " |      Return self!=value.\n",
      " |  \n",
      " |  __neg__(self, /)\n",
      " |      -self\n",
      " |  \n",
      " |  __or__(self, value, /)\n",
      " |      Return self|value.\n",
      " |  \n",
      " |  __pos__(self, /)\n",
      " |      +self\n",
      " |  \n",
      " |  __pow__(self, value, mod=None, /)\n",
      " |      Return pow(self, value, mod).\n",
      " |  \n",
      " |  __radd__(self, value, /)\n",
      " |      Return value+self.\n",
      " |  \n",
      " |  __rand__(self, value, /)\n",
      " |      Return value&self.\n",
      " |  \n",
      " |  __rdivmod__(self, value, /)\n",
      " |      Return divmod(value, self).\n",
      " |  \n",
      " |  __repr__(self, /)\n",
      " |      Return repr(self).\n",
      " |  \n",
      " |  __rfloordiv__(self, value, /)\n",
      " |      Return value//self.\n",
      " |  \n",
      " |  __rlshift__(self, value, /)\n",
      " |      Return value<<self.\n",
      " |  \n",
      " |  __rmod__(self, value, /)\n",
      " |      Return value%self.\n",
      " |  \n",
      " |  __rmul__(self, value, /)\n",
      " |      Return value*self.\n",
      " |  \n",
      " |  __ror__(self, value, /)\n",
      " |      Return value|self.\n",
      " |  \n",
      " |  __round__(...)\n",
      " |      Rounding an Integral returns itself.\n",
      " |      Rounding with an ndigits argument also returns an integer.\n",
      " |  \n",
      " |  __rpow__(self, value, mod=None, /)\n",
      " |      Return pow(value, self, mod).\n",
      " |  \n",
      " |  __rrshift__(self, value, /)\n",
      " |      Return value>>self.\n",
      " |  \n",
      " |  __rshift__(self, value, /)\n",
      " |      Return self>>value.\n",
      " |  \n",
      " |  __rsub__(self, value, /)\n",
      " |      Return value-self.\n",
      " |  \n",
      " |  __rtruediv__(self, value, /)\n",
      " |      Return value/self.\n",
      " |  \n",
      " |  __rxor__(self, value, /)\n",
      " |      Return value^self.\n",
      " |  \n",
      " |  __sizeof__(self, /)\n",
      " |      Returns size in memory, in bytes.\n",
      " |  \n",
      " |  __sub__(self, value, /)\n",
      " |      Return self-value.\n",
      " |  \n",
      " |  __truediv__(self, value, /)\n",
      " |      Return self/value.\n",
      " |  \n",
      " |  __trunc__(...)\n",
      " |      Truncating an Integral returns itself.\n",
      " |  \n",
      " |  __xor__(self, value, /)\n",
      " |      Return self^value.\n",
      " |  \n",
      " |  as_integer_ratio(self, /)\n",
      " |      Return integer ratio.\n",
      " |      \n",
      " |      Return a pair of integers, whose ratio is exactly equal to the original int\n",
      " |      and with a positive denominator.\n",
      " |      \n",
      " |      >>> (10).as_integer_ratio()\n",
      " |      (10, 1)\n",
      " |      >>> (-10).as_integer_ratio()\n",
      " |      (-10, 1)\n",
      " |      >>> (0).as_integer_ratio()\n",
      " |      (0, 1)\n",
      " |  \n",
      " |  bit_length(self, /)\n",
      " |      Number of bits necessary to represent self in binary.\n",
      " |      \n",
      " |      >>> bin(37)\n",
      " |      '0b100101'\n",
      " |      >>> (37).bit_length()\n",
      " |      6\n",
      " |  \n",
      " |  conjugate(...)\n",
      " |      Returns self, the complex conjugate of any int.\n",
      " |  \n",
      " |  to_bytes(self, /, length, byteorder, *, signed=False)\n",
      " |      Return an array of bytes representing an integer.\n",
      " |      \n",
      " |      length\n",
      " |        Length of bytes object to use.  An OverflowError is raised if the\n",
      " |        integer is not representable with the given number of bytes.\n",
      " |      byteorder\n",
      " |        The byte order used to represent the integer.  If byteorder is 'big',\n",
      " |        the most significant byte is at the beginning of the byte array.  If\n",
      " |        byteorder is 'little', the most significant byte is at the end of the\n",
      " |        byte array.  To request the native byte order of the host system, use\n",
      " |        `sys.byteorder' as the byte order value.\n",
      " |      signed\n",
      " |        Determines whether two's complement is used to represent the integer.\n",
      " |        If signed is False and a negative integer is given, an OverflowError\n",
      " |        is raised.\n",
      " |  \n",
      " |  ----------------------------------------------------------------------\n",
      " |  Class methods defined here:\n",
      " |  \n",
      " |  from_bytes(bytes, byteorder, *, signed=False) from builtins.type\n",
      " |      Return the integer represented by the given array of bytes.\n",
      " |      \n",
      " |      bytes\n",
      " |        Holds the array of bytes to convert.  The argument must either\n",
      " |        support the buffer protocol or be an iterable object producing bytes.\n",
      " |        Bytes and bytearray are examples of built-in objects that support the\n",
      " |        buffer protocol.\n",
      " |      byteorder\n",
      " |        The byte order used to represent the integer.  If byteorder is 'big',\n",
      " |        the most significant byte is at the beginning of the byte array.  If\n",
      " |        byteorder is 'little', the most significant byte is at the end of the\n",
      " |        byte array.  To request the native byte order of the host system, use\n",
      " |        `sys.byteorder' as the byte order value.\n",
      " |      signed\n",
      " |        Indicates whether two's complement is used to represent the integer.\n",
      " |  \n",
      " |  ----------------------------------------------------------------------\n",
      " |  Static methods defined here:\n",
      " |  \n",
      " |  __new__(*args, **kwargs) from builtins.type\n",
      " |      Create and return a new object.  See help(type) for accurate signature.\n",
      " |  \n",
      " |  ----------------------------------------------------------------------\n",
      " |  Data descriptors defined here:\n",
      " |  \n",
      " |  denominator\n",
      " |      the denominator of a rational number in lowest terms\n",
      " |  \n",
      " |  imag\n",
      " |      the imaginary part of a complex number\n",
      " |  \n",
      " |  numerator\n",
      " |      the numerator of a rational number in lowest terms\n",
      " |  \n",
      " |  real\n",
      " |      the real part of a complex number\n",
      "\n",
      "None\n"
     ]
    }
   ],
   "source": [
    "print(help(x))"
   ]
  },
  {
   "cell_type": "markdown",
   "metadata": {
    "id": "2KJvKelNaKwQ"
   },
   "source": [
    "### 4. Arithmetic and Logical (Boolean) Operators\n",
    "\n",
    "In Python, two major categories of operators are used to define variables and instructions: arithmetic operators and logical (boolean) operators.\n",
    "\n",
    "- **Arithmetic Operators**: These operators perform common mathematical operations. They include addition, subtraction, multiplication, division, and others that are essential for numerical computations.\n",
    "\n",
    "- **Logical (Boolean) Operators**: These operators are used for comparing values and evaluating logical expressions. A boolean value represents one of two possibilities: true or false. Boolean values result from evaluating logical expressions and are used to make decisions within a program, such as executing certain actions when specific conditions are met.\n",
    "\n",
    "**Boolean values** are crucial for control flow in programming, allowing for conditional execution based on whether a condition evaluates to true or false."
   ]
  },
  {
   "cell_type": "markdown",
   "metadata": {
    "id": "gDPRWEcnaKwQ"
   },
   "source": [
    "\n",
    "\n",
    "\n",
    "#### 4.0. Arithmetic Operators\n",
    "\n",
    "| **Operation**            | **Symbol**  | **Example**       |\n",
    "|:-------------------------:|:-----------:|:-----------------:|\n",
    "| Addition                  | `+`         | `x = 2 + 3`       |\n",
    "| Subtraction               | `-`         | `z = x - y`       |\n",
    "| Multiplication            | `*`         | `y = 3 * x`       |\n",
    "| Real Division             | `/`         | `5 / 2 = 2.5`    |\n",
    "| Integer Division          | `//`        | `5 // 2 = 2`     |\n",
    "| Exponentiation            | `**`        | `x ** 2 = x * x` |\n",
    "| Modulo (Remainder)        | `%`         | `17 % 3 = 2`     |\n",
    "| Increment Addition        | `+=`        | `x += 4` (i.e., `x = x + 4`) |\n",
    "| Increment Subtraction     | `-=`        | `x -= 4` (i.e., `x = x - 4`) |\n",
    "\n",
    "---\n",
    "\n"
   ]
  },
  {
   "cell_type": "markdown",
   "metadata": {
    "id": "DieIDs_NaKwR"
   },
   "source": [
    "\n",
    "\n",
    "#### 4.1. Logical Operators<\n",
    "\n",
    "| **Operation**                | **Symbol** | **Description**                                | **Example**               |\n",
    "|:----------------------------:|:----------:|:---------------------------------------------:|:--------------------------:|\n",
    "| Logical AND                  | `and`      | Returns `True` if both operands are true     | `True and False` yields `False` |\n",
    "| Logical OR                   | `or`       | Returns `True` if at least one operand is true| `True or False` yields `True`  |\n",
    "| Logical NOT                  | `not`      | Returns `True` if the operand is false       | `not True` yields `False`      |\n",
    "| Logical XOR (Exclusive OR)   | `^`        | Returns `True` if operands are different     | `True ^ False` yields `True`   |\n",
    "| Logical equality             | `==`       | Returns `True` if both operands are equal    | `x == y`                    |\n",
    "| Logical inequality           | `!=`       | Returns `True` if operands are not equal    | `x != y`                    |\n",
    "| Less than                    | `<`        | Returns `True` if left operand is less than right operand | `x < y`                  |\n",
    "| Greater than                 | `>`        | Returns `True` if left operand is greater than right operand | `x > y`                  |\n",
    "| Less than or equal to        | `<=`       | Returns `True` if left operand is less than or equal to right operand | `x <= y`                 |\n",
    "| Greater than or equal to     | `>=`       | Returns `True` if left operand is greater than or equal to right operand | `x >= y`                 |\n",
    "\n",
    "---\n"
   ]
  },
  {
   "cell_type": "markdown",
   "metadata": {
    "id": "FzO7WiicaKwR"
   },
   "source": [
    "\n",
    "To access the complete list of standard Python operators and their equivalent functions, see [this page](https://docs.python.org/3/library/operator.html). You can also refer to [this page](https://www.tutorialspoint.com/python/python_operators.htm) for some examples of standard operator usage.\n",
    "\n"
   ]
  },
  {
   "cell_type": "markdown",
   "metadata": {
    "id": "N1jAndubaKwR"
   },
   "source": [
    "### 5. User input ( the `input()` function)\n",
    "\n",
    "In Python, the `input()` function is used to capture user input from the console. It pauses the program's execution and waits for the user to type something, which is then returned as a string. This input can be stored in a variable, allowing you to use the entered data later in your code.\n",
    "\n",
    "#### 5.0. Basic Usage\n",
    "\n",
    "The basic syntax for the `input()` function is:\n",
    "\n",
    "```python\n",
    "variable_name = input(prompt)\n",
    "```\n",
    "\n",
    "- **`prompt`**: This is an optional argument. It is a string that is displayed to the user, providing instructions or asking for specific input.\n",
    "- **`variable_name`**: This is the variable that will store the value entered by the user.\n",
    "\n",
    "#### Example\n",
    "\n",
    "Here’s a simple example of using the `input()` function:\n",
    "\n",
    "```python\n",
    "name = input(\"Enter your name: \")\n",
    "print(\"Hello, \" + name + \"!\")\n",
    "```\n",
    "\n",
    "In this example:\n",
    "- The program prompts the user to enter their name.\n",
    "- The entered name is stored in the variable `name`.\n",
    "- The program then greets the user using the name provided."
   ]
  },
  {
   "cell_type": "code",
   "execution_count": 81,
   "metadata": {
    "id": "V6AcIA3saKwR"
   },
   "outputs": [
    {
     "name": "stdout",
     "output_type": "stream",
     "text": [
      "Enter your name: Walter\n",
      "Hello, Walter!\n"
     ]
    }
   ],
   "source": [
    "name = input(\"Enter your name: \")\n",
    "print(\"Hello, \" + name + \"!\")"
   ]
  },
  {
   "cell_type": "markdown",
   "metadata": {
    "id": "ND8vSfaXaKwS"
   },
   "source": [
    "#### 5.1. Important Notes\n",
    "\n",
    "- **Type Conversion**: Since `input()` always returns the input as a string, you may need to convert it to the appropriate type (e.g., `int`, `float`) depending on the context.\n",
    "\n",
    "  ```python\n",
    "  age = int(input(\"Enter your age: \"))\n",
    "  ```\n",
    "\n",
    "- **Handling Errors**: When converting input, it’s important to handle potential errors, such as the user entering a non-numeric value when an integer is expected.\n",
    "\n",
    "- **Security Considerations**: Be cautious when using `input()` in sensitive applications, as it can introduce security risks if the input is not properly validated or sanitized.\n",
    "\n",
    "Using the `input()` function is a common way to make your Python programs interactive, enabling users to provide data that can be processed and utilized by the program."
   ]
  },
  {
   "cell_type": "markdown",
   "metadata": {
    "id": "i4NhvF1-aKwS"
   },
   "source": [
    "#### 5.2.  Accepting User Inputs (as both integer and string)\n",
    "\n",
    "**`input(prompt)`** prompts for and returns input as a string. Hence, if the user inputs a integer, the code should convert the string to an integer and then proceed."
   ]
  },
  {
   "cell_type": "code",
   "execution_count": 82,
   "metadata": {
    "id": "YYEE6ii2aKwS"
   },
   "outputs": [
    {
     "name": "stdout",
     "output_type": "stream",
     "text": [
      "Hello, \n",
      "How are you?  Walter\n",
      "================================== \n",
      "\n",
      "<class 'str'>\n"
     ]
    }
   ],
   "source": [
    "a = input(\"Hello, \\nHow are you?  \") # \\n means new line\n",
    "\n",
    "\n",
    "print(\"================================== \\n\")\n",
    "print(type(a))"
   ]
  },
  {
   "cell_type": "code",
   "execution_count": 41,
   "metadata": {
    "id": "43ACxd6HaKwS"
   },
   "outputs": [
    {
     "name": "stdout",
     "output_type": "stream",
     "text": [
      "Type something here and it will be stored in variable try_something \t10\n",
      "================================== \n",
      "\n",
      "<class 'str'>\n"
     ]
    }
   ],
   "source": [
    "try_something = input(\"Type something here and it will be stored in variable try_something \\t\")\n",
    "\n",
    "print(\"================================== \\n\")\n",
    "print(type(try_something))"
   ]
  },
  {
   "cell_type": "code",
   "execution_count": 42,
   "metadata": {
    "id": "P0REqCj-aKwS"
   },
   "outputs": [
    {
     "name": "stdout",
     "output_type": "stream",
     "text": [
      "Enter number: 4\n",
      "Enter name: 4\n",
      "\n",
      "\n",
      "Printing type of a input value\n",
      "================================== \n",
      "\n",
      "Type of number <class 'str'>\n",
      "================================== \n",
      "\n",
      "Type of name <class 'str'>\n"
     ]
    }
   ],
   "source": [
    "number = input(\"Enter number: \")\n",
    "name = input(\"Enter name: \")\n",
    "\n",
    "print(\"\\n\")\n",
    "print(\"Printing type of a input value\")\n",
    "print(\"================================== \\n\")\n",
    "print(\"Type of number\", type(number))\n",
    "print(\"================================== \\n\")\n",
    "print(\"Type of name\", type(name))"
   ]
  },
  {
   "cell_type": "markdown",
   "metadata": {
    "id": "37aYG2u5aKwS"
   },
   "source": [
    "#### 5.3. `eval()` (accepting user inputs; only as integer)\n",
    "\n",
    "The `eval()` function in Python can be used in conjunction with `input()` to evaluate a string as a Python expression. This can be particularly useful when you want to allow the user to input a mathematical expression or Python code directly and have it evaluated at runtime.\n",
    "\n",
    "#### Basic Usage of `eval()`\n",
    "\n",
    "The basic syntax for using `eval()` with `input()` is:\n",
    "\n",
    "```python\n",
    "result = eval(input(prompt))\n",
    "```\n",
    "\n",
    "- **`prompt`**: This is the text displayed to the user to guide them on what to input.\n",
    "- **`result`**: This variable stores the output after evaluating the user input as a Python expression.\n",
    "\n",
    "#### Example\n",
    "\n",
    "Here’s an example where the user is allowed to input a mathematical expression, and `eval()` evaluates it:\n",
    "\n",
    "```python\n",
    "expression = input(\"Enter a mathematical expression: \")\n",
    "result = eval(expression)\n",
    "print(\"The result is:\", result)\n",
    "```"
   ]
  },
  {
   "cell_type": "code",
   "execution_count": 43,
   "metadata": {
    "id": "UnTHoZ7EaKwT"
   },
   "outputs": [
    {
     "name": "stdout",
     "output_type": "stream",
     "text": [
      "Enter a mathematical expression: 5\n",
      "The result is: 5\n"
     ]
    }
   ],
   "source": [
    "expression = input(\"Enter a mathematical expression: \")\n",
    "result = eval(expression)\n",
    "print(\"The result is:\", result)"
   ]
  },
  {
   "cell_type": "markdown",
   "metadata": {
    "id": "KIbA085vaKwT"
   },
   "source": [
    "\n",
    "In this example:\n",
    "- The program prompts the user to enter a mathematical expression.\n",
    "- The input is passed to `eval()`, which evaluates the expression.\n",
    "- The result is then printed out.\n",
    "\n",
    "#### Important Notes\n",
    "\n",
    "- **Use with Caution**: The `eval()` function can be dangerous if used with untrusted input, as it will execute any code passed to it. This could potentially lead to security vulnerabilities, such as code injection attacks. It should only be used in safe, controlled environments where the input is trusted.\n",
    "  \n",
    "- **Valid Python Expressions**: The string passed to `eval()` must be a valid Python expression. If the string contains syntax errors or invalid operations, Python will raise an exception.\n",
    "\n",
    "- **Alternative**: In many cases, using `int()` or `float()` for type conversion, or safely parsing and evaluating input without `eval()`, may be preferable for security reasons.\n",
    "\n",
    "Using `eval()` with `input()` can be powerful for dynamic code evaluation, but it should be used responsibly to avoid unintended consequences.\n"
   ]
  },
  {
   "cell_type": "markdown",
   "metadata": {
    "id": "RVm2z9JZaKwT"
   },
   "source": [
    "### Practice Problem"
   ]
  },
  {
   "cell_type": "code",
   "execution_count": 44,
   "metadata": {
    "id": "xKbxQmw8aKwT"
   },
   "outputs": [
    {
     "name": "stdout",
     "output_type": "stream",
     "text": [
      "Enter first number: 5\n",
      "Enter second number: 5\n",
      "Final result is:  10.0\n"
     ]
    }
   ],
   "source": [
    "# Accept one integer and one float number from the user and calculate the addition of both the numbers.\n",
    "num1 = int(input(\"Enter first number: \"))\n",
    "num2 = float(input(\"Enter second number: \"))\n",
    "\n",
    "result=(num1+num2)\n",
    "print(\"Final result is: \", result)"
   ]
  },
  {
   "cell_type": "code",
   "execution_count": 45,
   "metadata": {
    "id": "M1fXkto-aKwT"
   },
   "outputs": [
    {
     "name": "stdout",
     "output_type": "stream",
     "text": [
      "Enter first number: 5\n",
      "Enter second number: 5\n",
      "Enter third number: 5\n",
      "\n",
      "\n",
      "First Number:  5\n",
      "Second Number:  5\n",
      "Third Number:  5\n",
      "Final result is:  50\n"
     ]
    }
   ],
   "source": [
    "# Write code to get three numbers and add first 2 number and multiply with third number\n",
    "\n",
    "num1 = int(input(\"Enter first number: \"))   # converting input value to integer\n",
    "num2 = int(input(\"Enter second number: \"))  # converting input value to integer\n",
    "num3 = int(input(\"Enter third number: \"))   # converting input value to integer\n",
    "\n",
    "print(\"\\n\")\n",
    "print(\"First Number: \", num1)\n",
    "print(\"Second Number: \", num2)\n",
    "print(\"Third Number: \", num3)\n",
    "\n",
    "result=(num1+num2)*num3\n",
    "print(\"Final result is: \", result)"
   ]
  },
  {
   "cell_type": "code",
   "execution_count": 83,
   "metadata": {
    "id": "2OOS09QvaKwT"
   },
   "outputs": [
    {
     "name": "stdout",
     "output_type": "stream",
     "text": [
      "Enter first number: 5\n",
      "Enter second number: 5\n",
      "Enter third number: 5\n",
      "Enter fourth number: 5\n",
      "\n",
      "\n",
      "First Number:  5\n",
      "Second Number:  5\n",
      "Third Number:  5\n",
      "Fourth number:  5\n",
      "Final result is:  26.0\n"
     ]
    }
   ],
   "source": [
    "# Write a code to get four numbers:\n",
    "#Step 1. Multiply first and fourth number\n",
    "#Step 2. Divide second and third number\n",
    "#Step3. Add Step 1 and Step 2 outputs.\n",
    "\n",
    "num1 = int(input(\"Enter first number: \"))\n",
    "num2 = int(input(\"Enter second number: \"))\n",
    "num3 = int(input(\"Enter third number: \"))\n",
    "num4 = int(input(\"Enter fourth number: \"))\n",
    "\n",
    "print(\"\\n\")\n",
    "print(\"First Number: \", num1)\n",
    "print(\"Second Number: \", num2)\n",
    "print(\"Third Number: \", num3)\n",
    "print(\"Fourth number: \", num4)\n",
    "\n",
    "result=(num1*num4)+(num2/num3)\n",
    "print(\"Final result is: \", result)"
   ]
  },
  {
   "cell_type": "code",
   "execution_count": 84,
   "metadata": {
    "id": "EkfYDZrlaKwU"
   },
   "outputs": [
    {
     "name": "stdout",
     "output_type": "stream",
     "text": [
      "Enter float number: 5.7\n",
      "\n",
      "\n",
      "input float number is:  5.7\n",
      "type is: <class 'float'>\n"
     ]
    }
   ],
   "source": [
    "# Let’s see how to accept float value from a user in Python.\n",
    "# You need to convert user input to the float number using\n",
    "# the **`float()`** function as we did for the integer value.\n",
    "float_number = float(input(\"Enter float number: \"))  # converting input value to float\n",
    "print(\"\\n\")\n",
    "print(\"input float number is: \", float_number)\n",
    "print(\"type is:\", type(float_number))"
   ]
  },
  {
   "cell_type": "code",
   "execution_count": null,
   "metadata": {},
   "outputs": [],
   "source": []
  }
 ],
 "metadata": {
  "colab": {
   "include_colab_link": true,
   "provenance": []
  },
  "kernelspec": {
   "display_name": "Python 3",
   "language": "python",
   "name": "python3"
  },
  "language_info": {
   "codemirror_mode": {
    "name": "ipython",
    "version": 3
   },
   "file_extension": ".py",
   "mimetype": "text/x-python",
   "name": "python",
   "nbconvert_exporter": "python",
   "pygments_lexer": "ipython3",
   "version": "3.9.2"
  }
 },
 "nbformat": 4,
 "nbformat_minor": 4
}
