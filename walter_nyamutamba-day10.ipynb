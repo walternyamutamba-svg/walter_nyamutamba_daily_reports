{
 "cells": [
  {
   "cell_type": "markdown",
   "metadata": {},
   "source": [
    "****\n",
    "\n",
    "# <center> <b> <span style=\"color:orange;\"> Python Proficiency for Scientific Computing and Data Science (PyPro-SCiDaS)  </span> </b></center>\n",
    "\n",
    "### <center> <b> <span style=\"color:green;\">An Initiation to Programming using Python (Init2Py) </span> </b></center>\n",
    "    \n"
   ]
  },
  {
   "cell_type": "markdown",
   "metadata": {},
   "source": [
    "****\n",
    "\n",
    "# <center> <b> <span style=\"color:blue;\"> Lecture 10: Errors and Debugging </span> </b></center>\n",
    "\n",
    "\n",
    "****"
   ]
  },
  {
   "cell_type": "markdown",
   "metadata": {},
   "source": [
    "### <left> <b> <span style=\"color:brown;\"> Objective: </span> </b></left>\n",
    "In this unit, you’ll discover the fundamentals of debugging and error handling in Python. You’ll learn various techniques to detect and correct errors in your code, and understand how to manage exceptions in a clear and effective way.\n",
    "****"
   ]
  },
  {
   "cell_type": "markdown",
   "metadata": {},
   "source": [
    "\n",
    "## Why does debugging matter?\n",
    "\n",
    "Unless you're perfect, you are bound to make errors. Especially early on, expect to spend much more time debugging than actually coding. The process fits the Pareto principle - you're going to spend ~20% of your time writing ~80% of your code, and the other ~80% of your time will be spent screaming obscenities at your computer (I think that's what the Pareto principle says, anyway). Remember to keep calm, and LEARN from your mistakes.\n"
   ]
  },
  {
   "cell_type": "markdown",
   "metadata": {},
   "source": [
    "**Debugging** is the process of detecting and correcting errors within a program.  \n",
    "In Python, errors generally fall into two main categories:\n",
    "\n",
    "- **Syntax Errors:** These occur when the code violates Python’s grammatical rules — for example, omitting a colon at the end of an `if` statement.  \n",
    "- **Runtime Errors:** These happen while the program is executing, often caused by logical flaws or unexpected input values. \n"
   ]
  },
  {
   "cell_type": "markdown",
   "metadata": {},
   "source": [
    "## Error Types\n",
    "\n",
    "To err is human and Python helps us to find our mistakes by providing [error type descriptions](https://docs.python.org/3/tutorial/errors.html).\n",
    "When your code encounters an error, **Python stops execution** and returns an **exception** that describes the issue.  \n",
    "There are roughly [**165 exceptions**](https://docs.python.org/3/library/exceptions.html) in the Python standard library — and you’ll encounter quite a few of them as you code.  \n",
    "\n",
    "\n",
    "### Common Python Exceptions\n",
    "\n",
    "When your code encounters an error, **Python stops execution** and raises an **exception** describing the issue.  \n",
    "Below is a list of **common exceptions**, their meanings, and short examples.\n",
    "\n",
    "| **Exception**        | **Description / Common Cause** | **Example** |\n",
    "|-----------------------|--------------------------------|-------------|\n",
    "| `SyntaxError`         | Code violates Python syntax rules (e.g., missing colon or parenthesis). | `if True print(\"Hi\")` |\n",
    "| `IndentationError`    | Improper indentation or inconsistent spacing in code. | `if True:\\nprint(\"Hello\")` |\n",
    "| `NameError`           | Refers to a variable or function that hasn't been defined. | `print(a)` |\n",
    "| `TypeError`           | Operation or function applied to an object of inappropriate type. | `\"text\" / 5` |\n",
    "| `ValueError`          | Function receives a valid type but invalid value. | `int(\"abc\")` |\n",
    "| `IndexError`          | Attempt to access a list index that doesn’t exist. | `my_list = [1, 2]; print(my_list[3])` |\n",
    "| `KeyError`            | Trying to access a dictionary key that doesn’t exist. | `my_dict = {\"a\": 1}; print(my_dict[\"b\"])` |\n",
    "| `ImportError`         | Attempt to import a module or name that doesn’t exist. | `import non_existent_module` |\n",
    "| `IOError`             | File or I/O operation fails (e.g., file not found). | `open(\"missing_file.txt\")` |\n",
    "| `ZeroDivisionError`   | Division or modulo operation by zero. | `5 / 0` |\n",
    "| `Exception`           | General base class for all built-in exceptions. | `raise Exception(\"Something went wrong\")` |\n"
   ]
  },
  {
   "cell_type": "markdown",
   "metadata": {},
   "source": [
    "\n",
    "\n",
    "## Debugging\n",
    "\n",
    "Once your code becomes more complex, you’ll often face the question: *Will it run?*  \n",
    "Unfortunately, the answer is often *no* — but that’s where **debugging** comes in.  \n",
    "Debugging is the process of **finding and fixing errors (bugs)** in your code.  \n",
    "While debugging can seem daunting, the following principles can make it easier and more effective.\n",
    "\n",
    "### Basic Debugging Techniques\n",
    "\n",
    "Some common techniques to debug Python code include:\n",
    "\n",
    " -  Print Statements: Using `print()` to display the values of variables at different points in the code.\n",
    " - Using a Debugger: Tools like the `Python Debugger (PDB)` allow you to step through the code, inspect variables, and understand the flow of execution.\n",
    " - Reading `Error Messages`: Python provides detailed error messages that can help pinpoint the location and cause of an error.\n",
    "\n",
    "---\n",
    "\n",
    "### Use Exceptions Precisely\n",
    "\n",
    "Handle critical parts of your code with well-defined **`try`–`except`** blocks to manage possible errors. This helps identify where issues arise and makes your program more resilient.\n",
    "\n",
    "> 🗒️ **Tip:** Write clear error messages inside your `except` blocks and document them (e.g., in Markdown).  \n",
    "> Consider keeping a developer log or *wiki* that lists possible error sources and how to fix them.\n",
    "\n",
    "---\n",
    "\n",
    "### Use Descriptive Variable Names\n",
    "\n",
    "Choose **clear, meaningful names** for variables, functions, and classes.  \n",
    "Avoid ambiguous abbreviations — only use acronyms if they’re widely understood.  \n",
    "For readability:\n",
    "- Use **lowercase letters** for variables and functions.  \n",
    "- Use **CamelCase** for class names.\n",
    "\n",
    "---\n",
    "\n",
    "### Deal with Errors\n",
    "\n",
    "When an error occurs, **read the error message carefully** — often more than once.  \n",
    "This helps you **understand the origin** of the problem.  \n",
    "Error messages usually specify:\n",
    "- The script or file where the issue occurred.  \n",
    "- The exact line number.  \n",
    "- The error type (e.g., `TypeError`, `NameError`, etc.).\n",
    "\n",
    "If the issue isn’t clear (for example, from an external library), use a search engine or documentation to troubleshoot effectively.\n",
    "\n",
    "\n",
    "## Verify Output\n",
    "\n",
    "Just because code runs successfully doesn’t necessarily mean that the **result (output)** is correct.  \n",
    "Always validate your output using known input–output pairs — for example, compare your program’s results to a manual calculation or a verified source.  \n",
    "Make sure the output produced by your code **matches the expected (desired) output**.\n",
    "\n",
    "---\n",
    "\n",
    "## Code with a Structured Approach\n",
    "\n",
    "Before jumping into writing code, take time to **plan its structure**.  \n",
    "Avoid immediately creating random blocks of code; instead, use structural and behavioral diagrams to organize your logic.  \n",
    "Concepts like [**UML diagrams**](https://en.wikipedia.org/wiki/Unified_Modeling_Language#Diagrams) (Unified Modeling Language) are helpful tools in software engineering for designing and visualizing your code.\n",
    "\n",
    "> ✏️ **Tip:** Take a sheet of paper and a pencil before you start coding. Sketch how your code should work and produce the desired output.\n",
    "\n",
    "---\n",
    "\n",
    "## Soft Alternatives\n",
    "\n",
    "When you’re stuck, try explaining your problem aloud — even to yourself.  \n",
    "Rephrasing or describing a problem to another person (real or imaginary) can often help you **clarify your own thinking**.\n",
    "\n",
    "If frustration builds, **step away from the code**.  \n",
    "Take a walk, sleep on the problem, or do something that requires minimal concentration.  \n",
    "Your brain will keep processing the issue subconsciously — a phenomenon known as [**incubation**](https://en.wikipedia.org/wiki/Incubation_(psychology).\n",
    "\n",
    "---"
   ]
  },
  {
   "cell_type": "markdown",
   "metadata": {},
   "source": [
    "## Raising Exceptions\n",
    "\n",
    "When code returns an exception, we say that the exception was **thrown** or **raised**. These exceptions may be **handled** or **caught** by the code. \n",
    "\n",
    "\n",
    "#### Exception Handling with `try` - `except`\n",
    "\n",
    "`try` and `except` keywords test a code block and if it crashes, an `exception` is raised, but the script itself will not crash (unless otherwise defined in the `except` statement). The basic structure is:\n",
    "\n",
    "```python\n",
    "   try:\n",
    "    # code block\n",
    "   except ErrorType:\n",
    "    print(\"Error / warning message.\")\n",
    "\n",
    "```"
   ]
  },
  {
   "cell_type": "markdown",
   "metadata": {},
   "source": [
    "The `ErrorType` is technical not necessary (i.e., `except`: does the job, too), but adding an `ErrorType` is good practice to enable efficient debugging or making other users understand the origin of an error or warning. "
   ]
  },
  {
   "cell_type": "code",
   "execution_count": 5,
   "metadata": {},
   "outputs": [],
   "source": [
    "# Example of Raising an Exception\n",
    "def validate_age(age):\n",
    "    if age < 0:\n",
    "        raise ValueError(\"Age cannot be negative\")\n",
    "    print(f\"Age: {age}\")"
   ]
  },
  {
   "cell_type": "code",
   "execution_count": 6,
   "metadata": {},
   "outputs": [
    {
     "name": "stdout",
     "output_type": "stream",
     "text": [
      "Age: 10\n"
     ]
    }
   ],
   "source": [
    "try:\n",
    "    validate_age(10)\n",
    "   \n",
    "except ValueError as e:\n",
    "    print(e)"
   ]
  },
  {
   "cell_type": "code",
   "execution_count": 7,
   "metadata": {},
   "outputs": [
    {
     "name": "stdout",
     "output_type": "stream",
     "text": [
      "Age cannot be negative\n"
     ]
    }
   ],
   "source": [
    "try:\n",
    "    validate_age(-5)\n",
    "except ValueError as e:\n",
    "    print(e)"
   ]
  },
  {
   "cell_type": "markdown",
   "metadata": {},
   "source": [
    "What to do if you are unsure about the error type? Add an `else` statement (using exception functions such as `key_not_found` or `handle_value`):\n",
    "\n",
    "```python\n",
    "try:\n",
    "    value = a_dictionary[key]\n",
    "except KeyError:\n",
    "    return key_not_found(key)\n",
    "else:\n",
    "    return handle_value(value)\n",
    "```"
   ]
  },
  {
   "cell_type": "markdown",
   "metadata": {},
   "source": [
    "For example, suppose you’re working with a dictionary of students and their grades:\n"
   ]
  },
  {
   "cell_type": "code",
   "execution_count": 8,
   "metadata": {},
   "outputs": [],
   "source": [
    "def key_not_found(key):\n",
    "    print(f\"⚠️ Key '{key}' not found in the dictionary!\")\n",
    "\n",
    "def handle_value(value):\n",
    "    print(f\"✅ Retrieved value: {value}\")"
   ]
  },
  {
   "cell_type": "code",
   "execution_count": 11,
   "metadata": {},
   "outputs": [
    {
     "name": "stdout",
     "output_type": "stream",
     "text": [
      "⚠️ Key 'David' not found in the dictionary!\n"
     ]
    }
   ],
   "source": [
    "students = {\"Alice\": 85, \"Bob\": 92, \"Charlie\": 78}\n",
    "\n",
    "key = \"David\"  # This key does not exist in the dictionary\n",
    "\n",
    "try:\n",
    "    value = students[key]\n",
    "except KeyError:\n",
    "    key_not_found(key)\n",
    "else:\n",
    "    handle_value(value)"
   ]
  },
  {
   "cell_type": "code",
   "execution_count": 13,
   "metadata": {},
   "outputs": [
    {
     "name": "stdout",
     "output_type": "stream",
     "text": [
      "⚠️ Key 'Bo' not found in the dictionary!\n"
     ]
    }
   ],
   "source": [
    "# If you change key = \"Bob\", the output becomes:\n",
    "\n",
    "key = \"Bo\"  # This key does not exist in the dictionary\n",
    "\n",
    "try:\n",
    "    value = students[key]\n",
    "except KeyError:\n",
    "    key_not_found(key)\n",
    "else:\n",
    "    handle_value(value)"
   ]
  },
  {
   "cell_type": "markdown",
   "metadata": {},
   "source": [
    "### Custom Exceptions\n",
    "You can define custom exceptions to represent specific error conditions in your code. Custom exceptions are created by defining a new class that inherits from the built-in `Exception` class.\n",
    "```python\n",
    "## Example of a Custom Exception\n",
    "class NegativeAgeError(Exception):\n",
    "    pass\n",
    "\n",
    "def validate_age(age):\n",
    "    if age < 0:\n",
    "        raise NegativeAgeError(\"Age cannot be negative\")\n",
    "    print(f\"Age: {age}\")\n",
    "\n",
    "try:\n",
    "    validate_age(-5)\n",
    "except NegativeAgeError as e:\n",
    "    print(e)\n",
    "```    "
   ]
  },
  {
   "cell_type": "markdown",
   "metadata": {},
   "source": [
    "### Error Handling with `try`, `except`, `else`, `finally`\n",
    "\n",
    "Python provides a structured way to handle exceptions using the **`try`**, **`except`**, **`else`**, and **`finally`** statements:\n",
    "\n",
    "- **`try:`**  \n",
    "  Write the code that might cause an exception inside this block.\n",
    "\n",
    "- **`except:`**  \n",
    "  If an exception occurs in the `try` block, the code inside the `except` block is executed.\n",
    "\n",
    "- **`else:`**  \n",
    "  If no exception occurs, the code inside the `else` block runs.\n",
    "\n",
    "- **`finally:`**  \n",
    "  This block is always executed, whether or not an exception occurred.\n",
    "\n",
    "\n",
    "```python\n",
    "  #Example of Error Handling\n",
    " try:\n",
    "    result = 10 / 2\n",
    " except ZeroDivisionError:\n",
    "    print(\"❌ You can't divide by zero!\")\n",
    " else:\n",
    "    print(\"✅ Division successful!\")\n",
    " finally:\n",
    "    print(\"🔁 Always executed!\")\n",
    "\n",
    "```   "
   ]
  },
  {
   "cell_type": "markdown",
   "metadata": {},
   "source": [
    "#### 🧩 Case 1: No Error Occurs"
   ]
  },
  {
   "cell_type": "code",
   "execution_count": 16,
   "metadata": {},
   "outputs": [
    {
     "name": "stdout",
     "output_type": "stream",
     "text": [
      "Division successful!\n",
      "Always executed!\n"
     ]
    }
   ],
   "source": [
    "try:\n",
    "    result = 10 / 2\n",
    "except ZeroDivisionError:\n",
    "    print(\"You can't divide by zero!\")\n",
    "else:\n",
    "    print(\"Division successful!\")\n",
    "finally:\n",
    "    print(\"Always executed!\")"
   ]
  },
  {
   "cell_type": "code",
   "execution_count": 24,
   "metadata": {},
   "outputs": [
    {
     "name": "stdout",
     "output_type": "stream",
     "text": [
      "You can't divide by zero!\n"
     ]
    }
   ],
   "source": [
    "try:\n",
    "    result = 10 / p\n",
    "except:\n",
    "    print(\"You can't divide by zero!\")"
   ]
  },
  {
   "cell_type": "markdown",
   "metadata": {},
   "source": [
    "Explanation: The division succeeds, so the `else` block runs, followed by the `finally` block."
   ]
  },
  {
   "cell_type": "markdown",
   "metadata": {},
   "source": [
    "#### ⚠️ Case 2: Division by Zero"
   ]
  },
  {
   "cell_type": "code",
   "execution_count": 18,
   "metadata": {},
   "outputs": [
    {
     "name": "stdout",
     "output_type": "stream",
     "text": [
      "Division successful!\n",
      "Always executed!\n"
     ]
    }
   ],
   "source": [
    "try:\n",
    "    result = 10 / 9\n",
    "except ZeroDivisionError:\n",
    "    print(\"You can't divide by zero!\")\n",
    "else:\n",
    "    print(\"Division successful!\")\n",
    "finally:\n",
    "    print(\"Always executed!\")"
   ]
  },
  {
   "cell_type": "markdown",
   "metadata": {},
   "source": [
    "Explanation: The `ZeroDivisionError` triggers the `except` block.\n",
    "The `else` block is skipped, but the `finally` block still executes."
   ]
  },
  {
   "cell_type": "markdown",
   "metadata": {},
   "source": [
    "#### 💡 Case 3: Another Type of Error"
   ]
  },
  {
   "cell_type": "code",
   "execution_count": 19,
   "metadata": {},
   "outputs": [
    {
     "name": "stdout",
     "output_type": "stream",
     "text": [
      "Always executed!\n"
     ]
    },
    {
     "ename": "TypeError",
     "evalue": "unsupported operand type(s) for /: 'int' and 'str'",
     "output_type": "error",
     "traceback": [
      "\u001b[1;31m---------------------------------------------------------------------------\u001b[0m",
      "\u001b[1;31mTypeError\u001b[0m                                 Traceback (most recent call last)",
      "\u001b[1;32m<ipython-input-19-afdc4cef92a6>\u001b[0m in \u001b[0;36m<module>\u001b[1;34m\u001b[0m\n\u001b[0;32m      1\u001b[0m \u001b[1;32mtry\u001b[0m\u001b[1;33m:\u001b[0m\u001b[1;33m\u001b[0m\u001b[1;33m\u001b[0m\u001b[0m\n\u001b[1;32m----> 2\u001b[1;33m     \u001b[0mresult\u001b[0m \u001b[1;33m=\u001b[0m \u001b[1;36m10\u001b[0m \u001b[1;33m/\u001b[0m \u001b[1;34m\"a\"\u001b[0m\u001b[1;33m\u001b[0m\u001b[1;33m\u001b[0m\u001b[0m\n\u001b[0m\u001b[0;32m      3\u001b[0m \u001b[1;32mexcept\u001b[0m \u001b[0mZeroDivisionError\u001b[0m\u001b[1;33m:\u001b[0m\u001b[1;33m\u001b[0m\u001b[1;33m\u001b[0m\u001b[0m\n\u001b[0;32m      4\u001b[0m     \u001b[0mprint\u001b[0m\u001b[1;33m(\u001b[0m\u001b[1;34m\"You can't divide by zero!\"\u001b[0m\u001b[1;33m)\u001b[0m\u001b[1;33m\u001b[0m\u001b[1;33m\u001b[0m\u001b[0m\n\u001b[0;32m      5\u001b[0m \u001b[1;32melse\u001b[0m\u001b[1;33m:\u001b[0m\u001b[1;33m\u001b[0m\u001b[1;33m\u001b[0m\u001b[0m\n",
      "\u001b[1;31mTypeError\u001b[0m: unsupported operand type(s) for /: 'int' and 'str'"
     ]
    }
   ],
   "source": [
    "try:\n",
    "    result = 10 / \"a\"\n",
    "except ZeroDivisionError:\n",
    "    print(\"You can't divide by zero!\")\n",
    "else:\n",
    "    print(\"Division successful!\")\n",
    "finally:\n",
    "    print(\"Always executed!\")"
   ]
  },
  {
   "cell_type": "code",
   "execution_count": 26,
   "metadata": {},
   "outputs": [
    {
     "name": "stdout",
     "output_type": "stream",
     "text": [
      "You can't divide by zero!\n"
     ]
    }
   ],
   "source": [
    "try:\n",
    "    result = 10 / \"a\"\n",
    "except:\n",
    "    print(\"You can't divide by zero!\")\n"
   ]
  },
  {
   "cell_type": "markdown",
   "metadata": {},
   "source": [
    "Explanation: The error type (`TypeError`) doesn’t match `ZeroDivisionError`,\n",
    "so it’s not caught by the `except` block. The program shows an error message,\n",
    "but the `finally` block still runs."
   ]
  },
  {
   "cell_type": "markdown",
   "metadata": {},
   "source": [
    "##### Example: Using Multiple `except` Blocks with `else` and `finally`\n",
    "\n",
    "You can handle **different types of errors separately** using multiple `except` blocks.  \n",
    "This allows your program to respond appropriately depending on what kind of problem occurs.\n"
   ]
  },
  {
   "cell_type": "code",
   "execution_count": null,
   "metadata": {},
   "outputs": [],
   "source": [
    "try:\n",
    "    num1 = int(input(\"Enter a number: \"))\n",
    "    num2 = int(input(\"Enter another number: \"))\n",
    "    result = num1 / num2\n",
    "except ZeroDivisionError:\n",
    "    print(\"❌ You can't divide by zero!\")\n",
    "except ValueError:\n",
    "    print(\"⚠️ Please enter valid numeric values!\")\n",
    "else:\n",
    "    print(f\"✅ Division successful! The result is {result}\")\n",
    "finally:\n",
    "    print(\"🔁 Execution complete — thank you!\")\n"
   ]
  },
  {
   "cell_type": "markdown",
   "metadata": {},
   "source": [
    "\n",
    "### 🧠 Practice Exercise: Exploring Exception Handling\n",
    "\n",
    "You’ve seen how Python uses `try`, `except`, `else`, and `finally` blocks to manage errors.  \n",
    "Now it’s your turn to experiment!\n",
    "\n",
    "---\n",
    "\n",
    "#### 💻 Starter Code\n",
    "\n",
    "```python\n",
    "try:\n",
    "    x = int(input(\"Enter a number: \"))\n",
    "    y = int(input(\"Enter another number: \"))\n",
    "    result = x / y\n",
    "    print(\"Result:\", result)\n",
    "except ZeroDivisionError:\n",
    "    print(\"❌ Division by zero is not allowed.\")\n",
    "except ValueError:\n",
    "    print(\"⚠️ Please enter valid integers.\")\n",
    "else:\n",
    "    print(\"✅ Division performed successfully!\")\n",
    "finally:\n",
    "    print(\"🔁 End of program.\")\n",
    "```\n",
    "\n",
    "---\n",
    "\n",
    "#### 🔍 **Step 1: Try Different Cases**\n",
    "\n",
    "Run the program several times and note what happens in each scenario:\n",
    "\n",
    "| **Case** | **Example Input**           | **Expected Behavior**                                 |\n",
    "| -------- | --------------------------- | ----------------------------------------------------- |\n",
    "| 1        | `10`, `2`                   | Normal division (no error) → `else` and `finally` run |\n",
    "| 2        | `10`, `0`                   | Division by zero → `ZeroDivisionError` caught         |\n",
    "| 3        | `\"ten\"`, `5`                | Invalid integer → `ValueError` caught                 |\n",
    "| 4        | (Try something unexpected!) | Observe what happens                                  |\n",
    "\n",
    "---\n",
    "\n",
    "#### 🧩 **Step 2: Modify the Code**\n",
    "\n",
    "Now **extend** the code to handle additional error types:\n",
    "\n",
    "1. Add an `except TypeError:` block — try causing a `TypeError` by removing the `int()` conversion.\n",
    "2. Add an `except Exception as e:` block to **catch any error** not handled explicitly, and print the error message.\n",
    "3. Add a `finally:` message that says `\"This block runs no matter what!\"` and verify it always executes.\n",
    "\n",
    "---\n",
    "\n",
    "#### 🧠 **Step 3: Reflect**\n",
    "\n",
    "* Which types of errors did you observe most often?\n",
    "* What happens when you remove the `except` blocks?\n",
    "* Why is the `finally` block useful even when no errors occur?\n",
    "\n",
    "---\n",
    "\n",
    "✨ **Challenge:**\n",
    "Can you write a version of the program that asks for input **until a valid division** is performed (using a `while True` loop with exception handling)?\n",
    "\n",
    "\n"
   ]
  },
  {
   "cell_type": "markdown",
   "metadata": {},
   "source": [
    "## The `pass` Statement\n",
    "When developing a program, we often deal with complex problems that cannot be solved all at once.  \n",
    "In such cases, Python provides the **`pass`** statement — a placeholder that allows you to create **empty code blocks** and **build your program incrementally** while debugging step by step.  \n",
    "\n",
    "Moreover, understanding different **error types** helps identify and fix issues in existing code.  \n",
    "For example, if you plan to handle a `NameError` later, you can temporarily use a `pass` statement like this:\n",
    "```python\n",
    "   try:\n",
    "     a = 5\n",
    "     c = a + b # we want to define b later on with a complex formula\n",
    "   except NameError:\n",
    "     pass # we know that we did not define b yet\n",
    "\n",
    "```"
   ]
  },
  {
   "cell_type": "markdown",
   "metadata": {},
   "source": [
    "## Controlling Exceptions ` %xmode`"
   ]
  },
  {
   "cell_type": "markdown",
   "metadata": {},
   "source": [
    "Most Python scripts that fail do so by raising an **Exception**.  \n",
    "When this happens, Python provides detailed information about the cause of the error in a **traceback**, which can be viewed directly within the interpreter.  \n",
    "\n",
    "In **IPython**, you can customize how much information is displayed when an exception occurs by using the **`%xmode`** magic command.  \n",
    "This function controls the verbosity of the traceback output — from minimal to detailed — helping you better understand where and why the error happened.  \n",
    "\n",
    "Consider the following example:\n"
   ]
  },
  {
   "cell_type": "code",
   "execution_count": 20,
   "metadata": {},
   "outputs": [],
   "source": [
    "def func1(a, b):\n",
    "    return a / b\n",
    "\n",
    "def func2(x):\n",
    "    a = x\n",
    "    b = x - 1\n",
    "    return func1(a, b)"
   ]
  },
  {
   "cell_type": "code",
   "execution_count": 21,
   "metadata": {},
   "outputs": [
    {
     "ename": "ZeroDivisionError",
     "evalue": "division by zero",
     "output_type": "error",
     "traceback": [
      "\u001b[1;31m---------------------------------------------------------------------------\u001b[0m",
      "\u001b[1;31mZeroDivisionError\u001b[0m                         Traceback (most recent call last)",
      "\u001b[1;32m<ipython-input-21-7cb498ea7ed1>\u001b[0m in \u001b[0;36m<module>\u001b[1;34m\u001b[0m\n\u001b[1;32m----> 1\u001b[1;33m \u001b[0mfunc2\u001b[0m\u001b[1;33m(\u001b[0m\u001b[1;36m1\u001b[0m\u001b[1;33m)\u001b[0m\u001b[1;33m\u001b[0m\u001b[1;33m\u001b[0m\u001b[0m\n\u001b[0m",
      "\u001b[1;32m<ipython-input-20-586ccabd0db3>\u001b[0m in \u001b[0;36mfunc2\u001b[1;34m(x)\u001b[0m\n\u001b[0;32m      5\u001b[0m     \u001b[0ma\u001b[0m \u001b[1;33m=\u001b[0m \u001b[0mx\u001b[0m\u001b[1;33m\u001b[0m\u001b[1;33m\u001b[0m\u001b[0m\n\u001b[0;32m      6\u001b[0m     \u001b[0mb\u001b[0m \u001b[1;33m=\u001b[0m \u001b[0mx\u001b[0m \u001b[1;33m-\u001b[0m \u001b[1;36m1\u001b[0m\u001b[1;33m\u001b[0m\u001b[1;33m\u001b[0m\u001b[0m\n\u001b[1;32m----> 7\u001b[1;33m     \u001b[1;32mreturn\u001b[0m \u001b[0mfunc1\u001b[0m\u001b[1;33m(\u001b[0m\u001b[0ma\u001b[0m\u001b[1;33m,\u001b[0m \u001b[0mb\u001b[0m\u001b[1;33m)\u001b[0m\u001b[1;33m\u001b[0m\u001b[1;33m\u001b[0m\u001b[0m\n\u001b[0m",
      "\u001b[1;32m<ipython-input-20-586ccabd0db3>\u001b[0m in \u001b[0;36mfunc1\u001b[1;34m(a, b)\u001b[0m\n\u001b[0;32m      1\u001b[0m \u001b[1;32mdef\u001b[0m \u001b[0mfunc1\u001b[0m\u001b[1;33m(\u001b[0m\u001b[0ma\u001b[0m\u001b[1;33m,\u001b[0m \u001b[0mb\u001b[0m\u001b[1;33m)\u001b[0m\u001b[1;33m:\u001b[0m\u001b[1;33m\u001b[0m\u001b[1;33m\u001b[0m\u001b[0m\n\u001b[1;32m----> 2\u001b[1;33m     \u001b[1;32mreturn\u001b[0m \u001b[0ma\u001b[0m \u001b[1;33m/\u001b[0m \u001b[0mb\u001b[0m\u001b[1;33m\u001b[0m\u001b[1;33m\u001b[0m\u001b[0m\n\u001b[0m\u001b[0;32m      3\u001b[0m \u001b[1;33m\u001b[0m\u001b[0m\n\u001b[0;32m      4\u001b[0m \u001b[1;32mdef\u001b[0m \u001b[0mfunc2\u001b[0m\u001b[1;33m(\u001b[0m\u001b[0mx\u001b[0m\u001b[1;33m)\u001b[0m\u001b[1;33m:\u001b[0m\u001b[1;33m\u001b[0m\u001b[1;33m\u001b[0m\u001b[0m\n\u001b[0;32m      5\u001b[0m     \u001b[0ma\u001b[0m \u001b[1;33m=\u001b[0m \u001b[0mx\u001b[0m\u001b[1;33m\u001b[0m\u001b[1;33m\u001b[0m\u001b[0m\n",
      "\u001b[1;31mZeroDivisionError\u001b[0m: division by zero"
     ]
    }
   ],
   "source": [
    "func2(1)"
   ]
  },
  {
   "cell_type": "markdown",
   "metadata": {},
   "source": [
    "When we call `func2`, an error occurs — and the resulting traceback shows us exactly where things went wrong.  \n",
    "By default, this traceback displays several lines of context for each step that led to the error.  \n",
    "\n",
    "In **IPython**, you can adjust the level of detail shown using the **`%xmode`** magic command (short for *Exception mode*).  \n",
    "This command takes a single argument, the display mode, which determines how much information is printed.  \n",
    "The available modes are:\n",
    "\n",
    "- **Plain** – provides a concise output with minimal details.  \n",
    "- **Context** – the default mode, showing a balanced amount of contextual information.  \n",
    "- **Verbose** – gives the most detailed traceback, including variable values and deeper context.\n"
   ]
  },
  {
   "cell_type": "code",
   "execution_count": 22,
   "metadata": {},
   "outputs": [
    {
     "name": "stdout",
     "output_type": "stream",
     "text": [
      "Exception reporting mode: Plain\n"
     ]
    }
   ],
   "source": [
    "%xmode Plain"
   ]
  },
  {
   "cell_type": "code",
   "execution_count": null,
   "metadata": {},
   "outputs": [],
   "source": [
    "func2(1)"
   ]
  },
  {
   "cell_type": "markdown",
   "metadata": {},
   "source": [
    "The `Verbose` mode adds some extra information, including the arguments to any functions that are called:"
   ]
  },
  {
   "cell_type": "code",
   "execution_count": null,
   "metadata": {},
   "outputs": [],
   "source": [
    "%xmode Verbose"
   ]
  },
  {
   "cell_type": "code",
   "execution_count": null,
   "metadata": {},
   "outputs": [],
   "source": [
    "func2(1)"
   ]
  },
  {
   "cell_type": "markdown",
   "metadata": {},
   "source": [
    "The additional details provided by **Verbose mode** can be very helpful in pinpointing the exact cause of an exception.  \n",
    "However, using it all the time isn’t always practical — as your code grows more complex, the traceback can become very lengthy and overwhelming.  \n",
    "In many cases, the shorter and cleaner output of the **default Context mode** is easier to read and more efficient for everyday debugging.\n"
   ]
  },
  {
   "cell_type": "markdown",
   "metadata": {},
   "source": [
    "## Debugging: When Reading Tracebacks Is Not Enough\n",
    "The primary tool for interactive debugging in Python is **`pdb`** (the Python debugger).  \n",
    "It allows you to **step through code line by line**, making it easier to identify the source of complex errors.  \n",
    "An improved version, **`ipdb`**, is integrated with IPython and offers a more user-friendly experience.\n",
    "\n",
    "There are several ways to start and use these debuggers — for complete details, consult their official documentation.  \n",
    "\n",
    "In **IPython**, one of the most convenient ways to debug is by using the **`%debug`** magic command.  \n",
    "When you invoke `%debug` right after an exception occurs, it automatically launches an **interactive debugging prompt** at the point of failure.  \n",
    "From the `ipdb` interface, you can:\n",
    "- Inspect the **current call stack**  \n",
    "- Check or modify **variable values**  \n",
    "- Execute **Python commands** interactively  \n",
    "\n",
    "For example, after an exception, you can print the values of `a` and `b`, then type `quit` to exit the debugging session.\n",
    "\n",
    "When propmted, type consecutively `print(a)`, then `print(b)` and `quit`."
   ]
  },
  {
   "cell_type": "code",
   "execution_count": null,
   "metadata": {},
   "outputs": [],
   "source": [
    "%debug"
   ]
  },
  {
   "cell_type": "markdown",
   "metadata": {},
   "source": [
    "The interactive debugger offers far more capabilities than just inspecting variables —  \n",
    "it allows you to **navigate up and down the call stack**, exploring the **values of variables** at each level to better understand how the program reached its current state.\n",
    "When propmted, type consecutively `up`, `print(x)`, `up`, `down`, `quit`."
   ]
  },
  {
   "cell_type": "code",
   "execution_count": null,
   "metadata": {},
   "outputs": [],
   "source": [
    "%debug"
   ]
  },
  {
   "cell_type": "markdown",
   "metadata": {},
   "source": [
    "This feature helps you identify not only **what caused the error**, but also the **sequence of function calls** that led to it.  \n",
    "\n",
    "If you want the debugger to start **automatically** whenever an exception occurs, you can enable this behavior using the **`%pdb`** magic command:\n"
   ]
  },
  {
   "cell_type": "code",
   "execution_count": null,
   "metadata": {},
   "outputs": [],
   "source": [
    "%xmode Plain\n",
    "%pdb on\n",
    "func2(1)\n",
    "#When propmted, type consecutively `print(b)`, then `quit`.    "
   ]
  },
  {
   "cell_type": "markdown",
   "metadata": {},
   "source": [
    "There are many more commands available for interactive debugging than the few mentioned so far.  \n",
    "The table below summarizes some of the **most common and useful commands** in `pdb` and `ipdb`:\n",
    "\n",
    "| **Command** | **Description** |\n",
    "|--------------|-----------------|\n",
    "| `list` | Display the current location in the source file. |\n",
    "| `h` or `help` | Show all available commands or get help on a specific one. |\n",
    "| `q` or `quit` | Exit the debugger and stop program execution. |\n",
    "| `c` or `continue` | Leave the debugger and resume normal program execution. |\n",
    "| `n` or `next` | Move to the next line in the current function. |\n",
    "| *(Enter)* | Repeat the previous command. |\n",
    "| `p` or `print` | Display the value of a variable. |\n",
    "| `s` or `step` | Step into a function or subroutine. |\n",
    "| `r` or `return` | Continue execution until the current function returns. |\n",
    "\n",
    "For a full list of commands and advanced features, use the **`help`** command inside the debugger  \n",
    "or consult the official [**`ipdb` documentation**](https://github.com/gotcha/ipdb) online.\n"
   ]
  }
 ],
 "metadata": {
  "kernelspec": {
   "display_name": "Python 3",
   "language": "python",
   "name": "python3"
  },
  "language_info": {
   "codemirror_mode": {
    "name": "ipython",
    "version": 3
   },
   "file_extension": ".py",
   "mimetype": "text/x-python",
   "name": "python",
   "nbconvert_exporter": "python",
   "pygments_lexer": "ipython3",
   "version": "3.8.5"
  }
 },
 "nbformat": 4,
 "nbformat_minor": 5
}
