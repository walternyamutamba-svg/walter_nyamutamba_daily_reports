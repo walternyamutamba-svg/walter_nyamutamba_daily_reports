{
 "cells": [
  {
   "cell_type": "markdown",
   "id": "8b4f05f8",
   "metadata": {},
   "source": [
    "# Strings and files"
   ]
  },
  {
   "cell_type": "code",
   "execution_count": 1,
   "id": "58ca8899",
   "metadata": {},
   "outputs": [],
   "source": [
    "string_1 = \"Will you be at the meeting tonight?\"\n",
    "\n",
    "string_2 = '\"Yes\", he replies. '"
   ]
  },
  {
   "cell_type": "code",
   "execution_count": 2,
   "id": "606dcdbe",
   "metadata": {},
   "outputs": [
    {
     "name": "stdout",
     "output_type": "stream",
     "text": [
      "Will you be at the meeting tonight?\n"
     ]
    }
   ],
   "source": [
    "print(string_1)"
   ]
  },
  {
   "cell_type": "code",
   "execution_count": 3,
   "id": "f9552de7",
   "metadata": {},
   "outputs": [
    {
     "name": "stdout",
     "output_type": "stream",
     "text": [
      "\"Yes\", he replies. \n"
     ]
    }
   ],
   "source": [
    "print(string_2)"
   ]
  },
  {
   "cell_type": "markdown",
   "id": "8d4ccaeb",
   "metadata": {},
   "source": [
    "# Indexing"
   ]
  },
  {
   "cell_type": "code",
   "execution_count": 4,
   "id": "77e20a76",
   "metadata": {},
   "outputs": [
    {
     "data": {
      "text/plain": [
       "'W'"
      ]
     },
     "execution_count": 4,
     "metadata": {},
     "output_type": "execute_result"
    }
   ],
   "source": [
    "string_1[0]"
   ]
  },
  {
   "cell_type": "code",
   "execution_count": 5,
   "id": "bd140495",
   "metadata": {},
   "outputs": [
    {
     "data": {
      "text/plain": [
       "'i'"
      ]
     },
     "execution_count": 5,
     "metadata": {},
     "output_type": "execute_result"
    }
   ],
   "source": [
    "string_1[1]"
   ]
  },
  {
   "cell_type": "code",
   "execution_count": 6,
   "id": "ccd08bba",
   "metadata": {},
   "outputs": [
    {
     "data": {
      "text/plain": [
       "'l'"
      ]
     },
     "execution_count": 6,
     "metadata": {},
     "output_type": "execute_result"
    }
   ],
   "source": [
    "string_1[2]"
   ]
  },
  {
   "cell_type": "code",
   "execution_count": 7,
   "id": "e388f000",
   "metadata": {},
   "outputs": [
    {
     "name": "stdout",
     "output_type": "stream",
     "text": [
      "The second character of my string is i\n"
     ]
    }
   ],
   "source": [
    "print(\"The second character of my string is\", string_1[1])"
   ]
  },
  {
   "cell_type": "code",
   "execution_count": 8,
   "id": "d0180180",
   "metadata": {},
   "outputs": [
    {
     "name": "stdout",
     "output_type": "stream",
     "text": [
      "Will you be at the meeting tonight?\n",
      "The second character of my string is ?\n"
     ]
    }
   ],
   "source": [
    "print(string_1)\n",
    "print(\"The second character of my string is\", string_1[-1])"
   ]
  },
  {
   "cell_type": "markdown",
   "id": "faa17e93",
   "metadata": {},
   "source": [
    "# Slicing\n",
    "\n",
    "string[start: stop:step]"
   ]
  },
  {
   "cell_type": "code",
   "execution_count": 9,
   "id": "b7636942",
   "metadata": {},
   "outputs": [
    {
     "data": {
      "text/plain": [
       "'l'"
      ]
     },
     "execution_count": 9,
     "metadata": {},
     "output_type": "execute_result"
    }
   ],
   "source": [
    "string_1[2:8:9]"
   ]
  },
  {
   "cell_type": "code",
   "execution_count": 10,
   "id": "2830951f",
   "metadata": {},
   "outputs": [
    {
     "name": "stdout",
     "output_type": "stream",
     "text": [
      "Will you be at the meeting tonight?\n"
     ]
    },
    {
     "data": {
      "text/plain": [
       "'Wl o ea h etn oih?'"
      ]
     },
     "execution_count": 10,
     "metadata": {},
     "output_type": "execute_result"
    }
   ],
   "source": [
    "print(string_1)\n",
    "string_1[::2]"
   ]
  },
  {
   "cell_type": "code",
   "execution_count": 11,
   "id": "308b7b06",
   "metadata": {},
   "outputs": [
    {
     "data": {
      "text/plain": [
       "'l you be at the meeting tonight'"
      ]
     },
     "execution_count": 11,
     "metadata": {},
     "output_type": "execute_result"
    }
   ],
   "source": [
    "string_1[3:-1]"
   ]
  },
  {
   "cell_type": "code",
   "execution_count": 12,
   "id": "183d5a16",
   "metadata": {},
   "outputs": [
    {
     "data": {
      "text/plain": [
       "19"
      ]
     },
     "execution_count": 12,
     "metadata": {},
     "output_type": "execute_result"
    }
   ],
   "source": [
    "len(string_2)"
   ]
  },
  {
   "cell_type": "markdown",
   "id": "4dc261e0",
   "metadata": {},
   "source": [
    "# Concatenation"
   ]
  },
  {
   "cell_type": "code",
   "execution_count": 13,
   "id": "557afd52",
   "metadata": {},
   "outputs": [
    {
     "name": "stdout",
     "output_type": "stream",
     "text": [
      "Hello, World\n",
      "WorldHello, \n"
     ]
    }
   ],
   "source": [
    "my_var_1 = \"Hello, \"\n",
    "my_var_2 = \"World\"\n",
    "\n",
    "concat = my_var_1 + my_var_2\n",
    "\n",
    "concat1 = my_var_2 + my_var_1\n",
    "\n",
    "print(concat)\n",
    "print(concat1)"
   ]
  },
  {
   "cell_type": "code",
   "execution_count": 14,
   "id": "ff8f2fe9",
   "metadata": {},
   "outputs": [
    {
     "name": "stdout",
     "output_type": "stream",
     "text": [
      "World\n",
      "WorldWorld\n"
     ]
    }
   ],
   "source": [
    "print(my_var_2)\n",
    "print(2*my_var_2)"
   ]
  },
  {
   "cell_type": "code",
   "execution_count": 15,
   "id": "1d3c0f80",
   "metadata": {},
   "outputs": [
    {
     "name": "stdout",
     "output_type": "stream",
     "text": [
      "['__add__', '__class__', '__contains__', '__delattr__', '__dir__', '__doc__', '__eq__', '__format__', '__ge__', '__getattribute__', '__getitem__', '__getnewargs__', '__gt__', '__hash__', '__init__', '__init_subclass__', '__iter__', '__le__', '__len__', '__lt__', '__mod__', '__mul__', '__ne__', '__new__', '__reduce__', '__reduce_ex__', '__repr__', '__rmod__', '__rmul__', '__setattr__', '__sizeof__', '__str__', '__subclasshook__', 'capitalize', 'casefold', 'center', 'count', 'encode', 'endswith', 'expandtabs', 'find', 'format', 'format_map', 'index', 'isalnum', 'isalpha', 'isascii', 'isdecimal', 'isdigit', 'isidentifier', 'islower', 'isnumeric', 'isprintable', 'isspace', 'istitle', 'isupper', 'join', 'ljust', 'lower', 'lstrip', 'maketrans', 'partition', 'removeprefix', 'removesuffix', 'replace', 'rfind', 'rindex', 'rjust', 'rpartition', 'rsplit', 'rstrip', 'split', 'splitlines', 'startswith', 'strip', 'swapcase', 'title', 'translate', 'upper', 'zfill']\n"
     ]
    }
   ],
   "source": [
    "print(dir(string_1))"
   ]
  },
  {
   "cell_type": "code",
   "execution_count": 16,
   "id": "7bfeb86d",
   "metadata": {},
   "outputs": [],
   "source": [
    "?string_1.swapcase"
   ]
  },
  {
   "cell_type": "code",
   "execution_count": 17,
   "id": "7d7d1f0e",
   "metadata": {},
   "outputs": [
    {
     "data": {
      "text/plain": [
       "'wILL YOU BE AT THE MEETING TONIGHT?'"
      ]
     },
     "execution_count": 17,
     "metadata": {},
     "output_type": "execute_result"
    }
   ],
   "source": [
    "string_1.swapcase()"
   ]
  },
  {
   "cell_type": "code",
   "execution_count": 18,
   "id": "219476c2",
   "metadata": {},
   "outputs": [
    {
     "data": {
      "text/plain": [
       "'WILL YOU BE AT THE MEETING TONIGHT?'"
      ]
     },
     "execution_count": 18,
     "metadata": {},
     "output_type": "execute_result"
    }
   ],
   "source": [
    "string_1.upper() "
   ]
  },
  {
   "cell_type": "code",
   "execution_count": 19,
   "id": "905e7981",
   "metadata": {},
   "outputs": [],
   "source": [
    "?string_1.rsplit"
   ]
  },
  {
   "cell_type": "code",
   "execution_count": 20,
   "id": "5568fa34",
   "metadata": {},
   "outputs": [
    {
     "data": {
      "text/plain": [
       "['Will', 'you', 'be', 'at', 'the', 'meeting', 'tonight?']"
      ]
     },
     "execution_count": 20,
     "metadata": {},
     "output_type": "execute_result"
    }
   ],
   "source": [
    "string_1.rsplit()"
   ]
  },
  {
   "cell_type": "code",
   "execution_count": 21,
   "id": "fdb425bc",
   "metadata": {},
   "outputs": [
    {
     "data": {
      "text/plain": [
       "'Will you be at the meeting tonight?'"
      ]
     },
     "execution_count": 21,
     "metadata": {},
     "output_type": "execute_result"
    }
   ],
   "source": [
    "string_1.zfill(4)"
   ]
  },
  {
   "cell_type": "code",
   "execution_count": 22,
   "id": "2f845a20",
   "metadata": {},
   "outputs": [
    {
     "data": {
      "text/plain": [
       "['Will', 'you', 'be', 'at', 'the', 'meeting', 'tonight?']"
      ]
     },
     "execution_count": 22,
     "metadata": {},
     "output_type": "execute_result"
    }
   ],
   "source": [
    "string_1.split()"
   ]
  },
  {
   "cell_type": "code",
   "execution_count": 23,
   "id": "05d57539",
   "metadata": {},
   "outputs": [
    {
     "data": {
      "text/plain": [
       "0"
      ]
     },
     "execution_count": 23,
     "metadata": {},
     "output_type": "execute_result"
    }
   ],
   "source": [
    "string_1.rindex(\"W\")"
   ]
  },
  {
   "cell_type": "code",
   "execution_count": 24,
   "id": "64c2bbb0",
   "metadata": {},
   "outputs": [
    {
     "data": {
      "text/plain": [
       "'    9494949'"
      ]
     },
     "execution_count": 24,
     "metadata": {},
     "output_type": "execute_result"
    }
   ],
   "source": [
    "num = \"    9494949\"\n",
    "num.zfill(1)"
   ]
  },
  {
   "cell_type": "code",
   "execution_count": 25,
   "id": "66daed77",
   "metadata": {},
   "outputs": [
    {
     "data": {
      "text/plain": [
       "True"
      ]
     },
     "execution_count": 25,
     "metadata": {},
     "output_type": "execute_result"
    }
   ],
   "source": [
    "string_1.endswith(\"tonight?\")"
   ]
  },
  {
   "cell_type": "code",
   "execution_count": 26,
   "id": "3d6a400d",
   "metadata": {},
   "outputs": [
    {
     "name": "stdout",
     "output_type": "stream",
     "text": [
      "Object `open()` not found.\n"
     ]
    }
   ],
   "source": [
    "?open()"
   ]
  },
  {
   "cell_type": "code",
   "execution_count": 27,
   "id": "10d1a446",
   "metadata": {},
   "outputs": [],
   "source": [
    "my_file = open(\"My_text_file.txt\",\"w\")\n",
    "#fghij\n",
    "#aims class\n",
    "#Rwanda 2025\n",
    "#this is really cool\n"
   ]
  },
  {
   "cell_type": "code",
   "execution_count": 28,
   "id": "1b0994e3",
   "metadata": {},
   "outputs": [],
   "source": [
    "# Open a file in write mode ('w'). If the file doesn't exist, it will be created.\n",
    "# If it exists, its content will be overwritten.\n",
    "with open('my_file.txt', 'w') as f:\n",
    "    f.write('fghij.\\n')\n",
    "    f.write('aims class. \\n')\n",
    "    f.write('Rwanda 2025 \\n')\n",
    "    f.write('this is really cool \\n')\n",
    "\n"
   ]
  },
  {
   "cell_type": "code",
   "execution_count": 29,
   "id": "86cb5912",
   "metadata": {},
   "outputs": [
    {
     "name": "stdout",
     "output_type": "stream",
     "text": [
      "AY20252026   \u001b[0m\u001b[01;34mMusic\u001b[0m/            rwa_admpop_adm1_2023.csv\r\n",
      "day03.ipynb  my_file.txt       \u001b[01;34mTemplates\u001b[0m/\r\n",
      "dead.letter  My_text_file.txt  Untitled1.ipynb\r\n",
      "\u001b[01;34mDesktop\u001b[0m/     \u001b[01;34mPictures\u001b[0m/         Untitled.ipynb\r\n",
      "\u001b[01;34mDocuments\u001b[0m/   \u001b[01;34mPublic\u001b[0m/           \u001b[01;34mVideos\u001b[0m/\r\n",
      "\u001b[01;34mDownloads\u001b[0m/   \u001b[01;34mR\u001b[0m/                walter.nyamutamba_PP1.ipynb\r\n"
     ]
    }
   ],
   "source": [
    "ls"
   ]
  },
  {
   "cell_type": "code",
   "execution_count": 30,
   "id": "fd2fd612",
   "metadata": {},
   "outputs": [],
   "source": [
    "file = open('my_file.txt', 'r')"
   ]
  },
  {
   "cell_type": "code",
   "execution_count": 31,
   "id": "8a60a6c6",
   "metadata": {},
   "outputs": [],
   "source": [
    "# %load my_file.txt\n"
   ]
  },
  {
   "cell_type": "code",
   "execution_count": 32,
   "id": "450584df",
   "metadata": {},
   "outputs": [
    {
     "data": {
      "text/plain": [
       "_io.TextIOWrapper"
      ]
     },
     "execution_count": 32,
     "metadata": {},
     "output_type": "execute_result"
    }
   ],
   "source": [
    "type(file)"
   ]
  },
  {
   "cell_type": "code",
   "execution_count": 33,
   "id": "b56c7269",
   "metadata": {},
   "outputs": [
    {
     "data": {
      "text/plain": [
       "['fghij.\\n', 'aims class. \\n', 'Rwanda 2025 \\n', 'this is really cool \\n']"
      ]
     },
     "execution_count": 33,
     "metadata": {},
     "output_type": "execute_result"
    }
   ],
   "source": [
    "file.readlines()"
   ]
  },
  {
   "cell_type": "code",
   "execution_count": 34,
   "id": "34f02275",
   "metadata": {},
   "outputs": [
    {
     "data": {
      "text/plain": [
       "''"
      ]
     },
     "execution_count": 34,
     "metadata": {},
     "output_type": "execute_result"
    }
   ],
   "source": [
    "file.read()"
   ]
  },
  {
   "cell_type": "code",
   "execution_count": 35,
   "id": "277b845d",
   "metadata": {},
   "outputs": [],
   "source": [
    "file.close()"
   ]
  },
  {
   "cell_type": "code",
   "execution_count": 36,
   "id": "bd9ee1c3",
   "metadata": {},
   "outputs": [],
   "source": [
    "to_write_to_file = open(\"my_file.txt\",\"w\")\n",
    "to_write_to_file.write(\"This is Thursday11\")\n",
    "to_write_to_file.close()"
   ]
  },
  {
   "cell_type": "code",
   "execution_count": 37,
   "id": "78ffb201",
   "metadata": {},
   "outputs": [],
   "source": [
    "# %load my_file.txt"
   ]
  },
  {
   "cell_type": "code",
   "execution_count": null,
   "id": "29a3e5bb",
   "metadata": {},
   "outputs": [],
   "source": []
  }
 ],
 "metadata": {
  "kernelspec": {
   "display_name": "Python 3",
   "language": "python",
   "name": "python3"
  },
  "language_info": {
   "codemirror_mode": {
    "name": "ipython",
    "version": 3
   },
   "file_extension": ".py",
   "mimetype": "text/x-python",
   "name": "python",
   "nbconvert_exporter": "python",
   "pygments_lexer": "ipython3",
   "version": "3.9.2"
  }
 },
 "nbformat": 4,
 "nbformat_minor": 5
}
